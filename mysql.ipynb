{
  "nbformat": 4,
  "nbformat_minor": 0,
  "metadata": {
    "colab": {
      "provenance": [],
      "collapsed_sections": [],
      "authorship_tag": "ABX9TyO94eovyexPEGGH2kh+3pZt",
      "include_colab_link": true
    },
    "kernelspec": {
      "name": "python3",
      "display_name": "Python 3"
    },
    "language_info": {
      "name": "python"
    }
  },
  "cells": [
    {
      "cell_type": "markdown",
      "metadata": {
        "id": "view-in-github",
        "colab_type": "text"
      },
      "source": [
        "<a href=\"https://colab.research.google.com/github/sanskarram981/python-script-for-running-sql-queries/blob/Dev/mysql.ipynb\" target=\"_parent\"><img src=\"https://colab.research.google.com/assets/colab-badge.svg\" alt=\"Open In Colab\"/></a>"
      ]
    },
    {
      "cell_type": "code",
      "execution_count": null,
      "metadata": {
        "colab": {
          "base_uri": "https://localhost:8080/"
        },
        "id": "swxogwiQrFP2",
        "outputId": "5ecb1634-62f0-45ba-9a34-c844eeccdb80"
      },
      "outputs": [
        {
          "output_type": "stream",
          "name": "stdout",
          "text": [
            "Looking in indexes: https://pypi.org/simple, https://us-python.pkg.dev/colab-wheels/public/simple/\n",
            "Collecting mysql-connector-python\n",
            "  Downloading mysql_connector_python-8.0.31-cp37-cp37m-manylinux1_x86_64.whl (23.5 MB)\n",
            "\u001b[K     |████████████████████████████████| 23.5 MB 1.2 MB/s \n",
            "\u001b[?25hRequirement already satisfied: protobuf<=3.20.1,>=3.11.0 in /usr/local/lib/python3.7/dist-packages (from mysql-connector-python) (3.17.3)\n",
            "Requirement already satisfied: six>=1.9 in /usr/local/lib/python3.7/dist-packages (from protobuf<=3.20.1,>=3.11.0->mysql-connector-python) (1.15.0)\n",
            "Installing collected packages: mysql-connector-python\n",
            "Successfully installed mysql-connector-python-8.0.31\n"
          ]
        }
      ],
      "source": [
        "#!pip install mysql-connector-python"
      ]
    },
    {
      "cell_type": "code",
      "source": [
        "import mysql.connector\n",
        "from mysql.connector import Error\n"
      ],
      "metadata": {
        "id": "g3etR7_tt5sq"
      },
      "execution_count": null,
      "outputs": []
    },
    {
      "cell_type": "code",
      "source": [
        "\"\"\"How to connect to mysql database code\"\"\"\n",
        "\n",
        "\n",
        "# try:\n",
        "#     connection = mysql.connector.connect(host='209.209.40.92',\n",
        "#                                         database='test',\n",
        "#                                         user='admin',\n",
        "#                                         password='UdcYoI5I',\n",
        "#                                         port='10046',\n",
        "#                                         autocommit=True\n",
        "#                                         )\n",
        "#     if connection.is_connected():\n",
        "#         db_Info = connection.get_server_info()\n",
        "#         print(\"Connected to MySQL Server version \", db_Info)\n",
        "#         cursor = connection.cursor()\n",
        "#         cursor.execute(\"select database();\")\n",
        "#         record = cursor.fetchone() # fetchall(),fetchmany()\n",
        "#         print(\"You're connected to database: \", record)\n",
        "\n",
        "# except Error as e:\n",
        "#     print(\"Error while connecting to MySQL\", e)\n",
        "# finally:\n",
        "#     if connection.is_connected():\n",
        "#         cursor.close()\n",
        "#         print(\"MySQL cursor is closed\")\n",
        "#         connection.close()\n",
        "#         print(\"MySQL connection is closed\")"
      ],
      "metadata": {
        "id": "YGjU9FEwveKJ"
      },
      "execution_count": null,
      "outputs": []
    },
    {
      "cell_type": "code",
      "source": [
        "\"\"\"How to execute a mysql script with python\"\"\"\n",
        "\n",
        "# import mysql.connector\n",
        "\n",
        "# try:\n",
        "#     connection = mysql.connector.connect(host='localhost',\n",
        "#                                          database='Electronics',\n",
        "#                                          user='pynative',\n",
        "#                                          password='pynative@#29')\n",
        "\n",
        "#     mySql_Create_Table_Query = \"\"\"CREATE TABLE Laptop ( \n",
        "#                              Id int(11) NOT NULL,\n",
        "#                              Name varchar(250) NOT NULL,\n",
        "#                              Price float NOT NULL,\n",
        "#                              Purchase_date Date NOT NULL,\n",
        "#                              PRIMARY KEY (Id)) \"\"\"\n",
        "\n",
        "#     cursor = connection.cursor()\n",
        "#     result = cursor.execute(mySql_Create_Table_Query)\n",
        "#     print(\"Laptop Table created successfully \")\n",
        "\n",
        "# except mysql.connector.Error as error:\n",
        "#     print(\"Failed to create table in MySQL: {}\".format(error))\n",
        "# finally:\n",
        "#     if connection.is_connected():\n",
        "#         cursor.close()\n",
        "#         connection.close()\n",
        "#         print(\"MySQL connection is closed\")"
      ],
      "metadata": {
        "id": "uFuxbBIpvfPp"
      },
      "execution_count": null,
      "outputs": []
    },
    {
      "cell_type": "code",
      "source": [
        "\"\"\"Saving mysql connection parameter in the form of dictionary\"\"\"\n",
        "\n",
        "# import mysql.connector\n",
        "# from mysql.connector import Error\n",
        "\n",
        "# try:\n",
        "#     connection_config_dict = {\n",
        "#         'user': 'pynative',\n",
        "#         'password': 'pynative@123',\n",
        "#         'host': '127.0.0.1',\n",
        "#         'database': 'Electronics',\n",
        "#         'raise_on_warnings': True,\n",
        "#         'use_pure': False,\n",
        "#         'autocommit': True,\n",
        "#         'pool_size': 5\n",
        "#     }\n",
        "#     connection = mysql.connector.connect(**connection_config_dict)\n",
        "\n",
        "#     if connection.is_connected():\n",
        "#         db_Info = connection.get_server_info()\n",
        "#         print(\"Connected to MySQL Server version \", db_Info)\n",
        "#         cursor = connection.cursor()\n",
        "#         cursor.execute(\"select database();\")\n",
        "#         record = cursor.fetchone()\n",
        "#         print(\"Your connected to database: \", record)\n",
        "\n",
        "# except Error as e:\n",
        "#     print(\"Error while connecting to MySQL\", e)\n",
        "# finally:\n",
        "#     if connection.is_connected():\n",
        "#         cursor.close()\n",
        "#         connection.close()\n",
        "#         print(\"MySQL connection is closed\")"
      ],
      "metadata": {
        "id": "A0MDNNdRxFgy"
      },
      "execution_count": null,
      "outputs": []
    },
    {
      "cell_type": "code",
      "source": [
        "\"\"\"Changing connection timeout incase timeout happens while interacting with the database\"\"\"\n",
        "\n",
        "\n",
        "# import mysql.connector\n",
        "# from mysql.connector import Error\n",
        "\n",
        "# try:\n",
        "#     connection = mysql.connector.connect(host='localhost',\n",
        "#                                          database='Electronics',\n",
        "#                                          user='pynative',\n",
        "#                                          password='pynative@#29', connection_timeout=180)\n",
        "\n",
        "#     if connection.is_connected():\n",
        "#         db_Info = connection.get_server_info()\n",
        "#         print(\"Connected to MySQL database... MySQL Server version on \", db_Info)\n",
        "\n",
        "#         cursor = connection.cursor()\n",
        "#         # global connection timeout arguments\n",
        "#         global_connect_timeout = 'SET GLOBAL connect_timeout=180'\n",
        "#         global_wait_timeout = 'SET GLOBAL connect_timeout=180'\n",
        "#         global_interactive_timeout = 'SET GLOBAL connect_timeout=180'\n",
        "\n",
        "#         cursor.execute(global_connect_timeout)\n",
        "#         cursor.execute(global_wait_timeout)\n",
        "#         cursor.execute(global_interactive_timeout)\n",
        "\n",
        "#         connection.commit()\n",
        "\n",
        "# except Error as e:\n",
        "#     print(\"Error while connecting to MySQL\", e)\n",
        "# finally:\n",
        "#     # closing database connection.\n",
        "#     if connection.is_connected():\n",
        "#         cursor.close()\n",
        "#         connection.close()\n",
        "#         print(\"MySQL connection is closed\")"
      ],
      "metadata": {
        "id": "yMHvVrJdxOqx"
      },
      "execution_count": null,
      "outputs": []
    },
    {
      "cell_type": "code",
      "source": [
        "def query_execution(querry):\n",
        "  record = None\n",
        "  try:\n",
        "    connection = mysql.connector.connect(host='209.209.40.92',\n",
        "                                        database='test',\n",
        "                                        user='admin',\n",
        "                                        password='UdcYoI5I',\n",
        "                                        port='10046',\n",
        "                                        autocommit=True\n",
        "                                        )\n",
        "    if connection.is_connected():\n",
        "        cursor = connection.cursor()\n",
        "        cursor.execute(querry)\n",
        "        record = cursor.fetchall()\n",
        "  except Error as e:\n",
        "    print(\"Error while connecting to MySQL\", e)\n",
        "  finally:\n",
        "    if connection.is_connected():\n",
        "        cursor.close()\n",
        "        print(\"MySQL cursor is closed\")\n",
        "        connection.close()\n",
        "        print(\"MySQL connection is closed\")\n",
        "        return record"
      ],
      "metadata": {
        "id": "AsJfdH4XPrUE"
      },
      "execution_count": null,
      "outputs": []
    },
    {
      "cell_type": "code",
      "source": [
        "#creating table in the database\n",
        "\n",
        "query = \"CREATE TABLE student (id int,fname varchar(10),lname varchar(10),city varchar(10),PRIMARY KEY (id));\"\n",
        "output = query_execution(query)"
      ],
      "metadata": {
        "colab": {
          "base_uri": "https://localhost:8080/"
        },
        "id": "X4Ki1_3iS-ML",
        "outputId": "50824b95-65b6-423f-b14f-bd7b4d02f056"
      },
      "execution_count": null,
      "outputs": [
        {
          "output_type": "stream",
          "name": "stdout",
          "text": [
            "MySQL cursor is closed\n",
            "MySQL connection is closed\n"
          ]
        }
      ]
    },
    {
      "cell_type": "code",
      "source": [
        "#inserting data in the student table\n",
        "\n",
        "data = [(1,\"shivam\",\"sahu\",\"ranchi\"),\n",
        "        (2,\"shivam\",\"sunderam\",\"ranchi\"),\n",
        "        (3,\"sourav\",\"raj\",\"hazaribagh\"),\n",
        "        (4,\"madhav\",\"kumar\",\"deoghar\"),\n",
        "        (5,\"ravi\",\"kumar\",\"jamtara\"),\n",
        "        (6,\"sarfaraz\",\"alam\",\"dhanbad\")\n",
        "        ]\n",
        "record = None\n",
        "try:\n",
        "  connection = mysql.connector.connect(host='209.209.40.92',\n",
        "                                      database='test',\n",
        "                                      user='admin',\n",
        "                                      password='UdcYoI5I',\n",
        "                                      port='10046',\n",
        "                                      autocommit=True\n",
        "                                      )\n",
        "  if connection.is_connected():\n",
        "      cursor = connection.cursor()\n",
        "      for dt in data:\n",
        "        cursor.execute(\"INSERT INTO student VALUES (%s,%s,%s,%s)\",dt)\n",
        "        record = cursor.fetchall()\n",
        "except Error as e:\n",
        "  print(\"Error while connecting to MySQL\", e)\n",
        "finally:\n",
        "  if connection.is_connected():\n",
        "      cursor.close()\n",
        "      print(\"MySQL cursor is closed\")\n",
        "      connection.close()\n",
        "      print(\"MySQL connection is closed\")\n",
        "\n"
      ],
      "metadata": {
        "colab": {
          "base_uri": "https://localhost:8080/"
        },
        "id": "E6xAvFVTTNF2",
        "outputId": "56ecd1d7-0417-452a-f787-e8f30129ae96"
      },
      "execution_count": null,
      "outputs": [
        {
          "output_type": "stream",
          "name": "stdout",
          "text": [
            "MySQL cursor is closed\n",
            "MySQL connection is closed\n"
          ]
        }
      ]
    },
    {
      "cell_type": "code",
      "source": [
        "#retrieving data from the table\n",
        "\n",
        "try:\n",
        "  connection = mysql.connector.connect(host='209.209.40.92',\n",
        "                                      database='test',\n",
        "                                      user='admin',\n",
        "                                      password='UdcYoI5I',\n",
        "                                      port='10046',\n",
        "                                      autocommit=True\n",
        "                                      )\n",
        "  if connection.is_connected():\n",
        "      cursor = connection.cursor()\n",
        "      cursor.execute(\"SELECT * FROM student;\")\n",
        "      record = cursor.fetchall()\n",
        "except Error as e:\n",
        "  print(\"Error while connecting to MySQL\", e)\n",
        "finally:\n",
        "  if connection.is_connected():\n",
        "      cursor.close()\n",
        "      print(\"MySQL cursor is closed\")\n",
        "      connection.close()\n",
        "      print(\"MySQL connection is closed\")\n",
        "record"
      ],
      "metadata": {
        "colab": {
          "base_uri": "https://localhost:8080/"
        },
        "id": "JWbpXW1cUPEV",
        "outputId": "bfc8126e-b2b3-4f61-d3fc-71d47a56380d"
      },
      "execution_count": null,
      "outputs": [
        {
          "output_type": "stream",
          "name": "stdout",
          "text": [
            "MySQL cursor is closed\n",
            "MySQL connection is closed\n"
          ]
        },
        {
          "output_type": "execute_result",
          "data": {
            "text/plain": [
              "[(1, 'shivam', 'sahu', 'ranchi'),\n",
              " (2, 'shivam', 'sunderam', 'ranchi'),\n",
              " (3, 'sourav', 'raj', 'hazaribagh'),\n",
              " (4, 'madhav', 'kumar', 'deoghar'),\n",
              " (5, 'ravi', 'kumar', 'jamtara'),\n",
              " (6, 'sarfaraz', 'alam', 'dhanbad')]"
            ]
          },
          "metadata": {},
          "execution_count": 53
        }
      ]
    },
    {
      "cell_type": "code",
      "source": [
        "for dt in record:\n",
        "  print(dt)"
      ],
      "metadata": {
        "colab": {
          "base_uri": "https://localhost:8080/"
        },
        "id": "iUwDuVr0huSL",
        "outputId": "6e032fe7-243f-412a-fb33-9f1093d297b2"
      },
      "execution_count": null,
      "outputs": [
        {
          "output_type": "stream",
          "name": "stdout",
          "text": [
            "(1, 'shivam', 'sahu', 'ranchi')\n",
            "(2, 'shivam', 'sunderam', 'ranchi')\n",
            "(3, 'sourav', 'raj', 'hazaribagh')\n",
            "(4, 'madhav', 'kumar', 'deoghar')\n",
            "(5, 'ravi', 'kumar', 'jamtara')\n",
            "(6, 'sarfaraz', 'alam', 'dhanbad')\n"
          ]
        }
      ]
    },
    {
      "cell_type": "code",
      "source": [
        "#creating table in the database\n",
        "\n",
        "query = \"CREATE TABLE subject (id int,course varchar(10));\"\n",
        "output = query_execution(query)"
      ],
      "metadata": {
        "colab": {
          "base_uri": "https://localhost:8080/"
        },
        "id": "YHO6gEzPh9kK",
        "outputId": "2040bd00-70c0-4d5a-8592-a1d2f6f72c3d"
      },
      "execution_count": null,
      "outputs": [
        {
          "output_type": "stream",
          "name": "stdout",
          "text": [
            "MySQL cursor is closed\n",
            "MySQL connection is closed\n"
          ]
        }
      ]
    },
    {
      "cell_type": "code",
      "source": [
        "#inserting data in the student table\n",
        "\n",
        "data = [(1,\"maths\"),\n",
        "        (1,\"chemistry\"),\n",
        "        (2,\"biology\"),\n",
        "        (3,\"physics\"),\n",
        "        (4,\"english\"),\n",
        "        (4,\"hindi\"),\n",
        "        (4,\"chemistry\")\n",
        "        ]\n",
        "record = None\n",
        "try:\n",
        "  connection = mysql.connector.connect(host='209.209.40.92',\n",
        "                                      database='test',\n",
        "                                      user='admin',\n",
        "                                      password='UdcYoI5I',\n",
        "                                      port='10046',\n",
        "                                      autocommit=True\n",
        "                                      )\n",
        "  if connection.is_connected():\n",
        "      cursor = connection.cursor()\n",
        "      for dt in data:\n",
        "        cursor.execute(\"INSERT INTO subject VALUES (%s,%s)\",dt)\n",
        "        record = cursor.fetchall()\n",
        "except Error as e:\n",
        "  print(\"Error while connecting to MySQL\", e)\n",
        "finally:\n",
        "  if connection.is_connected():\n",
        "      cursor.close()\n",
        "      print(\"MySQL cursor is closed\")\n",
        "      connection.close()\n",
        "      print(\"MySQL connection is closed\")"
      ],
      "metadata": {
        "colab": {
          "base_uri": "https://localhost:8080/"
        },
        "id": "oSfEmRDWiOjy",
        "outputId": "72ea4899-a9d6-48cd-a732-1f9db5093824"
      },
      "execution_count": null,
      "outputs": [
        {
          "output_type": "stream",
          "name": "stdout",
          "text": [
            "MySQL cursor is closed\n",
            "MySQL connection is closed\n"
          ]
        }
      ]
    },
    {
      "cell_type": "code",
      "source": [
        "#retrieving data from the table\n",
        "\n",
        "try:\n",
        "  connection = mysql.connector.connect(host='209.209.40.92',\n",
        "                                      database='test',\n",
        "                                      user='admin',\n",
        "                                      password='UdcYoI5I',\n",
        "                                      port='10046',\n",
        "                                      autocommit=True\n",
        "                                      )\n",
        "  if connection.is_connected():\n",
        "      cursor = connection.cursor()\n",
        "      cursor.execute(\"SELECT * FROM subject;\")\n",
        "      record = cursor.fetchall()\n",
        "except Error as e:\n",
        "  print(\"Error while connecting to MySQL\", e)\n",
        "finally:\n",
        "  if connection.is_connected():\n",
        "      cursor.close()\n",
        "      print(\"MySQL cursor is closed\")\n",
        "      connection.close()\n",
        "      print(\"MySQL connection is closed\")\n",
        "record"
      ],
      "metadata": {
        "colab": {
          "base_uri": "https://localhost:8080/"
        },
        "id": "oXn6bmQfi4aU",
        "outputId": "bae9fcd5-4a78-4138-e32a-70666ee10615"
      },
      "execution_count": null,
      "outputs": [
        {
          "output_type": "stream",
          "name": "stdout",
          "text": [
            "MySQL cursor is closed\n",
            "MySQL connection is closed\n"
          ]
        },
        {
          "output_type": "execute_result",
          "data": {
            "text/plain": [
              "[(1, 'maths'),\n",
              " (1, 'chemistry'),\n",
              " (2, 'biology'),\n",
              " (3, 'physics'),\n",
              " (4, 'english'),\n",
              " (4, 'hindi'),\n",
              " (4, 'chemistry')]"
            ]
          },
          "metadata": {},
          "execution_count": 57
        }
      ]
    },
    {
      "cell_type": "code",
      "source": [
        "#performing inner join operation on the student and subject table\n",
        "\n",
        "#retrieving data from the table\n",
        "\n",
        "try:\n",
        "  connection = mysql.connector.connect(host='209.209.40.92',\n",
        "                                      database='test',\n",
        "                                      user='admin',\n",
        "                                      password='UdcYoI5I',\n",
        "                                      port='10046',\n",
        "                                      autocommit=True\n",
        "                                      )\n",
        "  if connection.is_connected():\n",
        "      cursor = connection.cursor()\n",
        "      cursor.execute(\"SELECT * FROM student INNER JOIN subject ON student.id = subject.id;\")\n",
        "      record = cursor.fetchall()\n",
        "except Error as e:\n",
        "  print(\"Error while connecting to MySQL\", e)\n",
        "finally:\n",
        "  if connection.is_connected():\n",
        "      cursor.close()\n",
        "      print(\"MySQL cursor is closed\")\n",
        "      connection.close()\n",
        "      print(\"MySQL connection is closed\")\n",
        "record"
      ],
      "metadata": {
        "colab": {
          "base_uri": "https://localhost:8080/"
        },
        "id": "BmxeTX1ejDCd",
        "outputId": "1163fa5a-2dc8-443b-941c-3b86225dd5a8"
      },
      "execution_count": null,
      "outputs": [
        {
          "output_type": "stream",
          "name": "stdout",
          "text": [
            "MySQL cursor is closed\n",
            "MySQL connection is closed\n"
          ]
        },
        {
          "output_type": "execute_result",
          "data": {
            "text/plain": [
              "[(1, 'shivam', 'sahu', 'ranchi', 1, 'maths'),\n",
              " (1, 'shivam', 'sahu', 'ranchi', 1, 'chemistry'),\n",
              " (2, 'shivam', 'sunderam', 'ranchi', 2, 'biology'),\n",
              " (3, 'sourav', 'raj', 'hazaribagh', 3, 'physics'),\n",
              " (4, 'madhav', 'kumar', 'deoghar', 4, 'english'),\n",
              " (4, 'madhav', 'kumar', 'deoghar', 4, 'hindi'),\n",
              " (4, 'madhav', 'kumar', 'deoghar', 4, 'chemistry')]"
            ]
          },
          "metadata": {},
          "execution_count": 58
        }
      ]
    },
    {
      "cell_type": "code",
      "source": [
        "#performing left join operation on the student and subject table\n",
        "\n",
        "#retrieving data from the table\n",
        "\n",
        "try:\n",
        "  connection = mysql.connector.connect(host='209.209.40.92',\n",
        "                                      database='test',\n",
        "                                      user='admin',\n",
        "                                      password='UdcYoI5I',\n",
        "                                      port='10046',\n",
        "                                      autocommit=True\n",
        "                                      )\n",
        "  if connection.is_connected():\n",
        "      cursor = connection.cursor()\n",
        "      cursor.execute(\"SELECT * FROM student LEFT JOIN subject ON student.id = subject.id;\")\n",
        "      record = cursor.fetchall()\n",
        "except Error as e:\n",
        "  print(\"Error while connecting to MySQL\", e)\n",
        "finally:\n",
        "  if connection.is_connected():\n",
        "      cursor.close()\n",
        "      print(\"MySQL cursor is closed\")\n",
        "      connection.close()\n",
        "      print(\"MySQL connection is closed\")\n",
        "record"
      ],
      "metadata": {
        "colab": {
          "base_uri": "https://localhost:8080/"
        },
        "id": "lQUS6q-jjiWh",
        "outputId": "41d292ba-5013-4b70-c839-3682d62e6c02"
      },
      "execution_count": null,
      "outputs": [
        {
          "output_type": "stream",
          "name": "stdout",
          "text": [
            "MySQL cursor is closed\n",
            "MySQL connection is closed\n"
          ]
        },
        {
          "output_type": "execute_result",
          "data": {
            "text/plain": [
              "[(1, 'shivam', 'sahu', 'ranchi', 1, 'chemistry'),\n",
              " (1, 'shivam', 'sahu', 'ranchi', 1, 'maths'),\n",
              " (2, 'shivam', 'sunderam', 'ranchi', 2, 'biology'),\n",
              " (3, 'sourav', 'raj', 'hazaribagh', 3, 'physics'),\n",
              " (4, 'madhav', 'kumar', 'deoghar', 4, 'chemistry'),\n",
              " (4, 'madhav', 'kumar', 'deoghar', 4, 'hindi'),\n",
              " (4, 'madhav', 'kumar', 'deoghar', 4, 'english'),\n",
              " (5, 'ravi', 'kumar', 'jamtara', None, None),\n",
              " (6, 'sarfaraz', 'alam', 'dhanbad', None, None)]"
            ]
          },
          "metadata": {},
          "execution_count": 59
        }
      ]
    },
    {
      "cell_type": "code",
      "source": [
        "#performing right join operation on the student and subject table\n",
        "\n",
        "#retrieving data from the table\n",
        "\n",
        "try:\n",
        "  connection = mysql.connector.connect(host='209.209.40.92',\n",
        "                                      database='test',\n",
        "                                      user='admin',\n",
        "                                      password='UdcYoI5I',\n",
        "                                      port='10046',\n",
        "                                      autocommit=True\n",
        "                                      )\n",
        "  if connection.is_connected():\n",
        "      cursor = connection.cursor()\n",
        "      cursor.execute(\"SELECT * FROM student RIGHT JOIN subject ON student.id = subject.id;\")\n",
        "      record = cursor.fetchall()\n",
        "except Error as e:\n",
        "  print(\"Error while connecting to MySQL\", e)\n",
        "finally:\n",
        "  if connection.is_connected():\n",
        "      cursor.close()\n",
        "      print(\"MySQL cursor is closed\")\n",
        "      connection.close()\n",
        "      print(\"MySQL connection is closed\")\n",
        "record"
      ],
      "metadata": {
        "colab": {
          "base_uri": "https://localhost:8080/"
        },
        "id": "crE5uiiojyF3",
        "outputId": "011cbce7-7705-41ea-a060-4c611dabcfdc"
      },
      "execution_count": null,
      "outputs": [
        {
          "output_type": "stream",
          "name": "stdout",
          "text": [
            "MySQL cursor is closed\n",
            "MySQL connection is closed\n"
          ]
        },
        {
          "output_type": "execute_result",
          "data": {
            "text/plain": [
              "[(1, 'shivam', 'sahu', 'ranchi', 1, 'maths'),\n",
              " (1, 'shivam', 'sahu', 'ranchi', 1, 'chemistry'),\n",
              " (2, 'shivam', 'sunderam', 'ranchi', 2, 'biology'),\n",
              " (3, 'sourav', 'raj', 'hazaribagh', 3, 'physics'),\n",
              " (4, 'madhav', 'kumar', 'deoghar', 4, 'english'),\n",
              " (4, 'madhav', 'kumar', 'deoghar', 4, 'hindi'),\n",
              " (4, 'madhav', 'kumar', 'deoghar', 4, 'chemistry')]"
            ]
          },
          "metadata": {},
          "execution_count": 60
        }
      ]
    },
    {
      "cell_type": "code",
      "source": [
        "#performing outer join operation on the student and subject table\n",
        "\n",
        "#retrieving data from the table\n",
        "\n",
        "try:\n",
        "  connection = mysql.connector.connect(host='209.209.40.92',\n",
        "                                      database='test',\n",
        "                                      user='admin',\n",
        "                                      password='UdcYoI5I',\n",
        "                                      port='10046',\n",
        "                                      autocommit=True\n",
        "                                      )\n",
        "  if connection.is_connected():\n",
        "      cursor = connection.cursor()\n",
        "      cursor.execute(\"SELECT * FROM student RIGHT OUTER JOIN subject ON student.id = subject.id;\")\n",
        "      record = cursor.fetchall()\n",
        "except Error as e:\n",
        "  print(\"Error while connecting to MySQL\", e)\n",
        "finally:\n",
        "  if connection.is_connected():\n",
        "      cursor.close()\n",
        "      print(\"MySQL cursor is closed\")\n",
        "      connection.close()\n",
        "      print(\"MySQL connection is closed\")\n",
        "record"
      ],
      "metadata": {
        "colab": {
          "base_uri": "https://localhost:8080/"
        },
        "id": "r5CB3J75kERv",
        "outputId": "f47562ff-02b6-4c7d-d551-9110fa29bf4f"
      },
      "execution_count": null,
      "outputs": [
        {
          "output_type": "stream",
          "name": "stdout",
          "text": [
            "MySQL cursor is closed\n",
            "MySQL connection is closed\n"
          ]
        },
        {
          "output_type": "execute_result",
          "data": {
            "text/plain": [
              "[(1, 'shivam', 'sahu', 'ranchi', 1, 'maths'),\n",
              " (1, 'shivam', 'sahu', 'ranchi', 1, 'chemistry'),\n",
              " (2, 'shivam', 'sunderam', 'ranchi', 2, 'biology'),\n",
              " (3, 'sourav', 'raj', 'hazaribagh', 3, 'physics'),\n",
              " (4, 'madhav', 'kumar', 'deoghar', 4, 'english'),\n",
              " (4, 'madhav', 'kumar', 'deoghar', 4, 'hindi'),\n",
              " (4, 'madhav', 'kumar', 'deoghar', 4, 'chemistry')]"
            ]
          },
          "metadata": {},
          "execution_count": 61
        }
      ]
    },
    {
      "cell_type": "code",
      "source": [],
      "metadata": {
        "id": "BDUqmprtkJ3R"
      },
      "execution_count": null,
      "outputs": []
    }
  ]
}