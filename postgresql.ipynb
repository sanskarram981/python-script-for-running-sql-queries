{
  "nbformat": 4,
  "nbformat_minor": 0,
  "metadata": {
    "colab": {
      "provenance": [],
      "collapsed_sections": [],
      "authorship_tag": "ABX9TyNOTo75J4pMmFu94DMIqpER",
      "include_colab_link": true
    },
    "kernelspec": {
      "name": "python3",
      "display_name": "Python 3"
    },
    "language_info": {
      "name": "python"
    }
  },
  "cells": [
    {
      "cell_type": "markdown",
      "metadata": {
        "id": "view-in-github",
        "colab_type": "text"
      },
      "source": [
        "<a href=\"https://colab.research.google.com/github/sanskarram981/python-script-for-running-sql-queries/blob/Dev/postgresql.ipynb\" target=\"_parent\"><img src=\"https://colab.research.google.com/assets/colab-badge.svg\" alt=\"Open In Colab\"/></a>"
      ]
    },
    {
      "cell_type": "code",
      "execution_count": 1,
      "metadata": {
        "colab": {
          "base_uri": "https://localhost:8080/"
        },
        "id": "zKQcxtx8y3BO",
        "outputId": "bb469177-b25f-426f-dd03-46ffc1807099"
      },
      "outputs": [
        {
          "output_type": "stream",
          "name": "stdout",
          "text": [
            "Looking in indexes: https://pypi.org/simple, https://us-python.pkg.dev/colab-wheels/public/simple/\n",
            "Requirement already satisfied: psycopg2 in /usr/local/lib/python3.7/dist-packages (2.9.5)\n"
          ]
        }
      ],
      "source": [
        "#!pip install psycopg2"
      ]
    },
    {
      "cell_type": "code",
      "source": [
        "import psycopg2\n",
        "from psycopg2 import Error\n",
        "import pandas as pd\n",
        "import numpy as np\n",
        "import matplotlib.pyplot as plt\n"
      ],
      "metadata": {
        "id": "v0bfr3VAWRYq"
      },
      "execution_count": 21,
      "outputs": []
    },
    {
      "cell_type": "code",
      "source": [
        "\"\"\"connection with the postgresql database\"\"\"\n",
        "\n",
        "\n",
        "\n",
        "# import psycopg2\n",
        "# from psycopg2 import Error\n",
        "\n",
        "# try:\n",
        "#     # Connect to an existing database\n",
        "#     connection = psycopg2.connect(user=\"admin\",\n",
        "#                                   password=\"Hydra@12345\",\n",
        "#                                   host=\"163.123.183.90\",\n",
        "#                                   port=\"19038\",\n",
        "#                                   database=\"test\")\n",
        "\n",
        "#     # Create a cursor to perform database operations\n",
        "#     cursor = connection.cursor()\n",
        "#     # Print PostgreSQL details\n",
        "#     print(\"PostgreSQL server information\")\n",
        "#     print(connection.get_dsn_parameters(), \"\\n\")\n",
        "#     # Executing a SQL query\n",
        "#     cursor.execute(\"SELECT version();\")\n",
        "#     # Fetch result\n",
        "#     record = cursor.fetchone()\n",
        "#     print(\"You are connected to - \", record, \"\\n\")\n",
        "\n",
        "# except (Exception, Error) as error:\n",
        "#     print(\"Error while connecting to PostgreSQL\", error)\n",
        "# finally:\n",
        "#     if (connection):\n",
        "#         cursor.close()\n",
        "#         connection.close()\n",
        "#         print(\"PostgreSQL connection is closed\")"
      ],
      "metadata": {
        "id": "tFaxg4xIzk_b",
        "colab": {
          "base_uri": "https://localhost:8080/",
          "height": 36
        },
        "outputId": "9e7a6ab6-25ef-4773-ca2b-4e71c0614c05"
      },
      "execution_count": 11,
      "outputs": [
        {
          "output_type": "execute_result",
          "data": {
            "text/plain": [
              "'connection with the postgresql database'"
            ],
            "application/vnd.google.colaboratory.intrinsic+json": {
              "type": "string"
            }
          },
          "metadata": {},
          "execution_count": 11
        }
      ]
    },
    {
      "cell_type": "code",
      "source": [
        "\"\"\"Executing sql query on the cursor\"\"\"\n",
        "\n",
        "# import psycopg2\n",
        "# from psycopg2 import Error\n",
        "\n",
        "# try:\n",
        "#     connection = psycopg2.connect(user=\"postgres\",\n",
        "#                                   password=\"pynative@#29\",\n",
        "#                                   host=\"127.0.0.1\",\n",
        "#                                   port=\"5432\",\n",
        "#                                   database=\"postgres_db\")\n",
        "\n",
        "#     cursor = connection.cursor()\n",
        "#     # SQL query to create a new table\n",
        "#     create_table_query = '''CREATE TABLE mobile\n",
        "#           (ID INT PRIMARY KEY     NOT NULL,\n",
        "#           MODEL           TEXT    NOT NULL,\n",
        "#           PRICE         REAL); '''\n",
        "#     # Execute a command: this creates a new table\n",
        "#     cursor.execute(create_table_query)\n",
        "#     connection.commit()\n",
        "#     print(\"Table created successfully in PostgreSQL \")\n",
        "\n",
        "# except (Exception, Error) as error:\n",
        "#     print(\"Error while connecting to PostgreSQL\", error)\n",
        "# finally:\n",
        "#     if connection:\n",
        "#         cursor.close()\n",
        "#         connection.close()\n",
        "#         print(\"PostgreSQL connection is closed\")"
      ],
      "metadata": {
        "id": "gYrpxCsYIXHu",
        "colab": {
          "base_uri": "https://localhost:8080/",
          "height": 36
        },
        "outputId": "d8f6820f-58aa-4c6a-e8be-8a8dac3395e3"
      },
      "execution_count": 12,
      "outputs": [
        {
          "output_type": "execute_result",
          "data": {
            "text/plain": [
              "'Executing sql query on the cursor'"
            ],
            "application/vnd.google.colaboratory.intrinsic+json": {
              "type": "string"
            }
          },
          "metadata": {},
          "execution_count": 12
        }
      ]
    },
    {
      "cell_type": "code",
      "source": [
        "\"\"\"Performing crud operation on the database with commit\"\"\"\n",
        "\n",
        "# import psycopg2\n",
        "\n",
        "# try:\n",
        "#     connection = psycopg2.connect(user=\"postgres\",\n",
        "#                                   password=\"pynative@#29\",\n",
        "#                                   host=\"127.0.0.1\",\n",
        "#                                   port=\"5432\",\n",
        "#                                   database=\"postgres_db\")\n",
        "\n",
        "#     cursor = connection.cursor()\n",
        "#     # Executing a SQL query to insert data into  table\n",
        "#     insert_query = \"\"\" INSERT INTO mobile (ID, MODEL, PRICE) VALUES (1, 'Iphone12', 1100)\"\"\"\n",
        "#     cursor.execute(insert_query)\n",
        "#     connection.commit()\n",
        "#     print(\"1 Record inserted successfully\")\n",
        "#     # Fetch result\n",
        "#     cursor.execute(\"SELECT * from mobile\")\n",
        "#     record = cursor.fetchall()\n",
        "#     print(\"Result \", record)\n",
        "\n",
        "#     # Executing a SQL query to update table\n",
        "#     update_query = \"\"\"Update mobile set price = 1500 where id = 1\"\"\"\n",
        "#     cursor.execute(update_query)\n",
        "#     connection.commit()\n",
        "#     count = cursor.rowcount\n",
        "#     print(count, \"Record updated successfully \")\n",
        "#     # Fetch result\n",
        "#     cursor.execute(\"SELECT * from mobile\")\n",
        "#     print(\"Result \", cursor.fetchall())\n",
        "\n",
        "#     # Executing a SQL query to delete table\n",
        "#     delete_query = \"\"\"Delete from mobile where id = 1\"\"\"\n",
        "#     cursor.execute(delete_query)\n",
        "#     connection.commit()\n",
        "#     count = cursor.rowcount\n",
        "#     print(count, \"Record deleted successfully \")\n",
        "#     # Fetch result\n",
        "#     cursor.execute(\"SELECT * from mobile\")\n",
        "#     print(\"Result \", cursor.fetchall())\n",
        "\n",
        "\n",
        "# except (Exception, psycopg2.Error) as error:\n",
        "#     print(\"Error while connecting to PostgreSQL\", error)\n",
        "# finally:\n",
        "#     if connection:\n",
        "#         cursor.close()\n",
        "#         connection.close()\n",
        "#         print(\"PostgreSQL connection is closed\")"
      ],
      "metadata": {
        "id": "Fk12qq7CIn8G",
        "colab": {
          "base_uri": "https://localhost:8080/",
          "height": 36
        },
        "outputId": "65aca3e5-f561-4c1e-e5a7-57583ac64e82"
      },
      "execution_count": 13,
      "outputs": [
        {
          "output_type": "execute_result",
          "data": {
            "text/plain": [
              "'Performing crud operation on the database with commit'"
            ],
            "application/vnd.google.colaboratory.intrinsic+json": {
              "type": "string"
            }
          },
          "metadata": {},
          "execution_count": 13
        }
      ]
    },
    {
      "cell_type": "code",
      "source": [
        "def query_execution(querry):\n",
        "  record = None\n",
        "  try:\n",
        "      connection = psycopg2.connect(user=\"admin\",\n",
        "                                  password=\"Hydra@12345\",\n",
        "                                  host=\"163.123.183.90\",\n",
        "                                  port=\"19038\",\n",
        "                                  database=\"test\")\n",
        "      cursor = connection.cursor()\n",
        "      cursor.execute(querry)\n",
        "      connection.commit()\n",
        "  except (Exception, Error) as error:\n",
        "      print(\"Error while connecting to PostgreSQL\", error)\n",
        "  finally:\n",
        "      if connection:\n",
        "          cursor.close()\n",
        "          print(\"PostgreSQL cursor is closed\")\n",
        "          connection.close()\n",
        "          print(\"PostgreSQL connection is closed\")"
      ],
      "metadata": {
        "id": "PBo5-zFTmakd"
      },
      "execution_count": 14,
      "outputs": []
    },
    {
      "cell_type": "code",
      "source": [
        "#creating table in the database\n",
        "\n",
        "# query = \"CREATE TABLE student (id int,fname varchar(10),lname varchar(10),city varchar(10),PRIMARY KEY (id));\"\n",
        "# output = query_execution(query)\n",
        "# output"
      ],
      "metadata": {
        "id": "EIHo5YXor4Hf"
      },
      "execution_count": 16,
      "outputs": []
    },
    {
      "cell_type": "code",
      "source": [
        "#inserting data in the student table\n",
        "# data = [(1,\"shivam\",\"sahu\",\"ranchi\"),\n",
        "#         (2,\"shivam\",\"sunderam\",\"ranchi\"),\n",
        "#         (3,\"sourav\",\"raj\",\"hazaribagh\"),\n",
        "#         (4,\"madhav\",\"kumar\",\"deoghar\"),\n",
        "#         (5,\"ravi\",\"kumar\",\"jamtara\"),\n",
        "#         (6,\"sarfaraz\",\"alam\",\"dhanbad\")\n",
        "# ]\n",
        "# record = None\n",
        "# try:\n",
        "#       connection = psycopg2.connect(user=\"admin\",\n",
        "#                                   password=\"Hydra@12345\",\n",
        "#                                   host=\"163.123.183.90\",\n",
        "#                                   port=\"19038\",\n",
        "#                                   database=\"test\")\n",
        "#       cursor = connection.cursor()\n",
        "#       for dt in data:\n",
        "#         cursor.execute(\"INSERT INTO student VALUES (%s,%s,%s,%s)\",dt)\n",
        "#       connection.commit()\n",
        "# except (Exception, Error) as error:\n",
        "#   print(\"Error while connecting to PostgreSQL\", error)\n",
        "# finally:\n",
        "#     if connection:\n",
        "#         cursor.close()\n",
        "#         print(\"PostgreSQL cursor is closed\")\n",
        "#         connection.close()\n",
        "#         print(\"PostgreSQL connection is closed\")\n",
        "\n"
      ],
      "metadata": {
        "id": "YvyMUz7fsAq_"
      },
      "execution_count": 18,
      "outputs": []
    },
    {
      "cell_type": "code",
      "source": [
        "#retrieving record from the student table\n",
        "\n",
        "record = None\n",
        "col_name = None\n",
        "try:\n",
        "      connection = psycopg2.connect(user=\"admin\",\n",
        "                                  password=\"Hydra@12345\",\n",
        "                                  host=\"163.123.183.90\",\n",
        "                                  port=\"19038\",\n",
        "                                  database=\"test\")\n",
        "      cursor = connection.cursor()\n",
        "      cursor.execute(\"SELECT * FROM student;\")\n",
        "      col_name = cursor.description\n",
        "      record = cursor.fetchall()\n",
        "except (Exception, Error) as error:\n",
        "  print(\"Error while connecting to PostgreSQL\", error)\n",
        "finally:\n",
        "    if connection:\n",
        "        cursor.close()\n",
        "        print(\"PostgreSQL cursor is closed\")\n",
        "        connection.close()\n",
        "        print(\"PostgreSQL connection is closed\")\n",
        "record"
      ],
      "metadata": {
        "colab": {
          "base_uri": "https://localhost:8080/"
        },
        "id": "OtJ3nUJWswjy",
        "outputId": "e54b7b9c-54b9-40b6-8ef7-dd02f4655f2b"
      },
      "execution_count": 22,
      "outputs": [
        {
          "output_type": "stream",
          "name": "stdout",
          "text": [
            "PostgreSQL cursor is closed\n",
            "PostgreSQL connection is closed\n"
          ]
        },
        {
          "output_type": "execute_result",
          "data": {
            "text/plain": [
              "[(1, 'shivam', 'sahu', 'ranchi'),\n",
              " (2, 'shivam', 'sunderam', 'ranchi'),\n",
              " (3, 'sourav', 'raj', 'hazaribagh'),\n",
              " (4, 'madhav', 'kumar', 'deoghar'),\n",
              " (5, 'ravi', 'kumar', 'jamtara'),\n",
              " (6, 'sarfaraz', 'alam', 'dhanbad')]"
            ]
          },
          "metadata": {},
          "execution_count": 22
        }
      ]
    },
    {
      "cell_type": "code",
      "source": [
        "for x in col_name:\n",
        "  print(x[0])"
      ],
      "metadata": {
        "colab": {
          "base_uri": "https://localhost:8080/"
        },
        "id": "T_8roNAeWxzj",
        "outputId": "57ab7a05-50bf-4b6b-8b21-b2c17bda50e9"
      },
      "execution_count": 23,
      "outputs": [
        {
          "output_type": "stream",
          "name": "stdout",
          "text": [
            "id\n",
            "fname\n",
            "lname\n",
            "city\n"
          ]
        }
      ]
    },
    {
      "cell_type": "code",
      "source": [
        "column = [x[0] for x in col_name] \n",
        "df = pd.DataFrame(record,columns=column)\n",
        "df"
      ],
      "metadata": {
        "colab": {
          "base_uri": "https://localhost:8080/",
          "height": 237
        },
        "id": "5qy-YjiXW5in",
        "outputId": "f70bc0e4-345b-4570-f778-fb43e0b73d62"
      },
      "execution_count": 24,
      "outputs": [
        {
          "output_type": "execute_result",
          "data": {
            "text/plain": [
              "   id     fname     lname        city\n",
              "0   1    shivam      sahu      ranchi\n",
              "1   2    shivam  sunderam      ranchi\n",
              "2   3    sourav       raj  hazaribagh\n",
              "3   4    madhav     kumar     deoghar\n",
              "4   5      ravi     kumar     jamtara\n",
              "5   6  sarfaraz      alam     dhanbad"
            ],
            "text/html": [
              "\n",
              "  <div id=\"df-eeb2857b-378b-40f0-9d86-b7fbbf208acd\">\n",
              "    <div class=\"colab-df-container\">\n",
              "      <div>\n",
              "<style scoped>\n",
              "    .dataframe tbody tr th:only-of-type {\n",
              "        vertical-align: middle;\n",
              "    }\n",
              "\n",
              "    .dataframe tbody tr th {\n",
              "        vertical-align: top;\n",
              "    }\n",
              "\n",
              "    .dataframe thead th {\n",
              "        text-align: right;\n",
              "    }\n",
              "</style>\n",
              "<table border=\"1\" class=\"dataframe\">\n",
              "  <thead>\n",
              "    <tr style=\"text-align: right;\">\n",
              "      <th></th>\n",
              "      <th>id</th>\n",
              "      <th>fname</th>\n",
              "      <th>lname</th>\n",
              "      <th>city</th>\n",
              "    </tr>\n",
              "  </thead>\n",
              "  <tbody>\n",
              "    <tr>\n",
              "      <th>0</th>\n",
              "      <td>1</td>\n",
              "      <td>shivam</td>\n",
              "      <td>sahu</td>\n",
              "      <td>ranchi</td>\n",
              "    </tr>\n",
              "    <tr>\n",
              "      <th>1</th>\n",
              "      <td>2</td>\n",
              "      <td>shivam</td>\n",
              "      <td>sunderam</td>\n",
              "      <td>ranchi</td>\n",
              "    </tr>\n",
              "    <tr>\n",
              "      <th>2</th>\n",
              "      <td>3</td>\n",
              "      <td>sourav</td>\n",
              "      <td>raj</td>\n",
              "      <td>hazaribagh</td>\n",
              "    </tr>\n",
              "    <tr>\n",
              "      <th>3</th>\n",
              "      <td>4</td>\n",
              "      <td>madhav</td>\n",
              "      <td>kumar</td>\n",
              "      <td>deoghar</td>\n",
              "    </tr>\n",
              "    <tr>\n",
              "      <th>4</th>\n",
              "      <td>5</td>\n",
              "      <td>ravi</td>\n",
              "      <td>kumar</td>\n",
              "      <td>jamtara</td>\n",
              "    </tr>\n",
              "    <tr>\n",
              "      <th>5</th>\n",
              "      <td>6</td>\n",
              "      <td>sarfaraz</td>\n",
              "      <td>alam</td>\n",
              "      <td>dhanbad</td>\n",
              "    </tr>\n",
              "  </tbody>\n",
              "</table>\n",
              "</div>\n",
              "      <button class=\"colab-df-convert\" onclick=\"convertToInteractive('df-eeb2857b-378b-40f0-9d86-b7fbbf208acd')\"\n",
              "              title=\"Convert this dataframe to an interactive table.\"\n",
              "              style=\"display:none;\">\n",
              "        \n",
              "  <svg xmlns=\"http://www.w3.org/2000/svg\" height=\"24px\"viewBox=\"0 0 24 24\"\n",
              "       width=\"24px\">\n",
              "    <path d=\"M0 0h24v24H0V0z\" fill=\"none\"/>\n",
              "    <path d=\"M18.56 5.44l.94 2.06.94-2.06 2.06-.94-2.06-.94-.94-2.06-.94 2.06-2.06.94zm-11 1L8.5 8.5l.94-2.06 2.06-.94-2.06-.94L8.5 2.5l-.94 2.06-2.06.94zm10 10l.94 2.06.94-2.06 2.06-.94-2.06-.94-.94-2.06-.94 2.06-2.06.94z\"/><path d=\"M17.41 7.96l-1.37-1.37c-.4-.4-.92-.59-1.43-.59-.52 0-1.04.2-1.43.59L10.3 9.45l-7.72 7.72c-.78.78-.78 2.05 0 2.83L4 21.41c.39.39.9.59 1.41.59.51 0 1.02-.2 1.41-.59l7.78-7.78 2.81-2.81c.8-.78.8-2.07 0-2.86zM5.41 20L4 18.59l7.72-7.72 1.47 1.35L5.41 20z\"/>\n",
              "  </svg>\n",
              "      </button>\n",
              "      \n",
              "  <style>\n",
              "    .colab-df-container {\n",
              "      display:flex;\n",
              "      flex-wrap:wrap;\n",
              "      gap: 12px;\n",
              "    }\n",
              "\n",
              "    .colab-df-convert {\n",
              "      background-color: #E8F0FE;\n",
              "      border: none;\n",
              "      border-radius: 50%;\n",
              "      cursor: pointer;\n",
              "      display: none;\n",
              "      fill: #1967D2;\n",
              "      height: 32px;\n",
              "      padding: 0 0 0 0;\n",
              "      width: 32px;\n",
              "    }\n",
              "\n",
              "    .colab-df-convert:hover {\n",
              "      background-color: #E2EBFA;\n",
              "      box-shadow: 0px 1px 2px rgba(60, 64, 67, 0.3), 0px 1px 3px 1px rgba(60, 64, 67, 0.15);\n",
              "      fill: #174EA6;\n",
              "    }\n",
              "\n",
              "    [theme=dark] .colab-df-convert {\n",
              "      background-color: #3B4455;\n",
              "      fill: #D2E3FC;\n",
              "    }\n",
              "\n",
              "    [theme=dark] .colab-df-convert:hover {\n",
              "      background-color: #434B5C;\n",
              "      box-shadow: 0px 1px 3px 1px rgba(0, 0, 0, 0.15);\n",
              "      filter: drop-shadow(0px 1px 2px rgba(0, 0, 0, 0.3));\n",
              "      fill: #FFFFFF;\n",
              "    }\n",
              "  </style>\n",
              "\n",
              "      <script>\n",
              "        const buttonEl =\n",
              "          document.querySelector('#df-eeb2857b-378b-40f0-9d86-b7fbbf208acd button.colab-df-convert');\n",
              "        buttonEl.style.display =\n",
              "          google.colab.kernel.accessAllowed ? 'block' : 'none';\n",
              "\n",
              "        async function convertToInteractive(key) {\n",
              "          const element = document.querySelector('#df-eeb2857b-378b-40f0-9d86-b7fbbf208acd');\n",
              "          const dataTable =\n",
              "            await google.colab.kernel.invokeFunction('convertToInteractive',\n",
              "                                                     [key], {});\n",
              "          if (!dataTable) return;\n",
              "\n",
              "          const docLinkHtml = 'Like what you see? Visit the ' +\n",
              "            '<a target=\"_blank\" href=https://colab.research.google.com/notebooks/data_table.ipynb>data table notebook</a>'\n",
              "            + ' to learn more about interactive tables.';\n",
              "          element.innerHTML = '';\n",
              "          dataTable['output_type'] = 'display_data';\n",
              "          await google.colab.output.renderOutput(dataTable, element);\n",
              "          const docLink = document.createElement('div');\n",
              "          docLink.innerHTML = docLinkHtml;\n",
              "          element.appendChild(docLink);\n",
              "        }\n",
              "      </script>\n",
              "    </div>\n",
              "  </div>\n",
              "  "
            ]
          },
          "metadata": {},
          "execution_count": 24
        }
      ]
    },
    {
      "cell_type": "code",
      "source": [
        "#creating table in the database\n",
        "\n",
        "# query = \"CREATE TABLE subject (id int,course varchar(10));\"\n",
        "# output = query_execution(query)"
      ],
      "metadata": {
        "id": "jLlVqt_CuUye"
      },
      "execution_count": 26,
      "outputs": []
    },
    {
      "cell_type": "code",
      "source": [
        "#inserting data in the student table\n",
        "\n",
        "# data = [(1,\"maths\"),\n",
        "#         (1,\"chemistry\"),\n",
        "#         (2,\"biology\"),\n",
        "#         (3,\"physics\"),\n",
        "#         (4,\"english\"),\n",
        "#         (4,\"hindi\"),\n",
        "#         (4,\"chemistry\")\n",
        "#         ]\n",
        "# record = None\n",
        "# try:\n",
        "#       connection = psycopg2.connect(user=\"admin\",\n",
        "#                                   password=\"Hydra@12345\",\n",
        "#                                   host=\"163.123.183.90\",\n",
        "#                                   port=\"19038\",\n",
        "#                                   database=\"test\")\n",
        "#       cursor = connection.cursor()\n",
        "#       for dt in data:\n",
        "#         cursor.execute(\"INSERT INTO subject VALUES (%s,%s)\",dt)\n",
        "#       connection.commit()\n",
        "# except (Exception, Error) as error:\n",
        "#   print(\"Error while connecting to PostgreSQL\", error)\n",
        "# finally:\n",
        "#     if connection:\n",
        "#         cursor.close()\n",
        "#         print(\"PostgreSQL cursor is closed\")\n",
        "#         connection.close()\n",
        "#         print(\"PostgreSQL connection is closed\")"
      ],
      "metadata": {
        "id": "sKzJVLwKukWX"
      },
      "execution_count": 27,
      "outputs": []
    },
    {
      "cell_type": "code",
      "source": [
        "#retrieving record from the subject table\n",
        "\n",
        "record = None\n",
        "col_name = None\n",
        "try:\n",
        "      connection = psycopg2.connect(user=\"admin\",\n",
        "                                  password=\"Hydra@12345\",\n",
        "                                  host=\"163.123.183.90\",\n",
        "                                  port=\"19038\",\n",
        "                                  database=\"test\")\n",
        "      cursor = connection.cursor()\n",
        "      cursor.execute(\"SELECT * FROM subject;\")\n",
        "      col_name = cursor.description\n",
        "      record = cursor.fetchall()\n",
        "except (Exception, Error) as error:\n",
        "  print(\"Error while connecting to PostgreSQL\", error)\n",
        "finally:\n",
        "    if connection:\n",
        "        cursor.close()\n",
        "        print(\"PostgreSQL cursor is closed\")\n",
        "        connection.close()\n",
        "        print(\"PostgreSQL connection is closed\")\n",
        "record"
      ],
      "metadata": {
        "colab": {
          "base_uri": "https://localhost:8080/"
        },
        "id": "qFPoqFDRuvcd",
        "outputId": "a3bb373f-3ab4-4d62-b0d4-4872691b228f"
      },
      "execution_count": 28,
      "outputs": [
        {
          "output_type": "stream",
          "name": "stdout",
          "text": [
            "PostgreSQL cursor is closed\n",
            "PostgreSQL connection is closed\n"
          ]
        },
        {
          "output_type": "execute_result",
          "data": {
            "text/plain": [
              "[(1, 'maths'),\n",
              " (1, 'chemistry'),\n",
              " (2, 'biology'),\n",
              " (3, 'physics'),\n",
              " (4, 'english'),\n",
              " (4, 'hindi'),\n",
              " (4, 'chemistry')]"
            ]
          },
          "metadata": {},
          "execution_count": 28
        }
      ]
    },
    {
      "cell_type": "code",
      "source": [
        "for x in col_name:\n",
        "  print(x[0])"
      ],
      "metadata": {
        "colab": {
          "base_uri": "https://localhost:8080/"
        },
        "id": "_9wCn7UIZBIM",
        "outputId": "fb115e37-187f-4971-ee3f-6420cb4d8734"
      },
      "execution_count": 29,
      "outputs": [
        {
          "output_type": "stream",
          "name": "stdout",
          "text": [
            "id\n",
            "course\n"
          ]
        }
      ]
    },
    {
      "cell_type": "code",
      "source": [
        "column = [x[0] for x in col_name] \n",
        "df = pd.DataFrame(record,columns=column)\n",
        "df"
      ],
      "metadata": {
        "colab": {
          "base_uri": "https://localhost:8080/",
          "height": 269
        },
        "id": "Fp7F-20-ZJSh",
        "outputId": "02be9139-57dd-4bc7-a8fd-7a934dfd9c90"
      },
      "execution_count": 30,
      "outputs": [
        {
          "output_type": "execute_result",
          "data": {
            "text/plain": [
              "   id     course\n",
              "0   1      maths\n",
              "1   1  chemistry\n",
              "2   2    biology\n",
              "3   3    physics\n",
              "4   4    english\n",
              "5   4      hindi\n",
              "6   4  chemistry"
            ],
            "text/html": [
              "\n",
              "  <div id=\"df-b056f422-6fd3-4b5b-a0c0-13753d6a15af\">\n",
              "    <div class=\"colab-df-container\">\n",
              "      <div>\n",
              "<style scoped>\n",
              "    .dataframe tbody tr th:only-of-type {\n",
              "        vertical-align: middle;\n",
              "    }\n",
              "\n",
              "    .dataframe tbody tr th {\n",
              "        vertical-align: top;\n",
              "    }\n",
              "\n",
              "    .dataframe thead th {\n",
              "        text-align: right;\n",
              "    }\n",
              "</style>\n",
              "<table border=\"1\" class=\"dataframe\">\n",
              "  <thead>\n",
              "    <tr style=\"text-align: right;\">\n",
              "      <th></th>\n",
              "      <th>id</th>\n",
              "      <th>course</th>\n",
              "    </tr>\n",
              "  </thead>\n",
              "  <tbody>\n",
              "    <tr>\n",
              "      <th>0</th>\n",
              "      <td>1</td>\n",
              "      <td>maths</td>\n",
              "    </tr>\n",
              "    <tr>\n",
              "      <th>1</th>\n",
              "      <td>1</td>\n",
              "      <td>chemistry</td>\n",
              "    </tr>\n",
              "    <tr>\n",
              "      <th>2</th>\n",
              "      <td>2</td>\n",
              "      <td>biology</td>\n",
              "    </tr>\n",
              "    <tr>\n",
              "      <th>3</th>\n",
              "      <td>3</td>\n",
              "      <td>physics</td>\n",
              "    </tr>\n",
              "    <tr>\n",
              "      <th>4</th>\n",
              "      <td>4</td>\n",
              "      <td>english</td>\n",
              "    </tr>\n",
              "    <tr>\n",
              "      <th>5</th>\n",
              "      <td>4</td>\n",
              "      <td>hindi</td>\n",
              "    </tr>\n",
              "    <tr>\n",
              "      <th>6</th>\n",
              "      <td>4</td>\n",
              "      <td>chemistry</td>\n",
              "    </tr>\n",
              "  </tbody>\n",
              "</table>\n",
              "</div>\n",
              "      <button class=\"colab-df-convert\" onclick=\"convertToInteractive('df-b056f422-6fd3-4b5b-a0c0-13753d6a15af')\"\n",
              "              title=\"Convert this dataframe to an interactive table.\"\n",
              "              style=\"display:none;\">\n",
              "        \n",
              "  <svg xmlns=\"http://www.w3.org/2000/svg\" height=\"24px\"viewBox=\"0 0 24 24\"\n",
              "       width=\"24px\">\n",
              "    <path d=\"M0 0h24v24H0V0z\" fill=\"none\"/>\n",
              "    <path d=\"M18.56 5.44l.94 2.06.94-2.06 2.06-.94-2.06-.94-.94-2.06-.94 2.06-2.06.94zm-11 1L8.5 8.5l.94-2.06 2.06-.94-2.06-.94L8.5 2.5l-.94 2.06-2.06.94zm10 10l.94 2.06.94-2.06 2.06-.94-2.06-.94-.94-2.06-.94 2.06-2.06.94z\"/><path d=\"M17.41 7.96l-1.37-1.37c-.4-.4-.92-.59-1.43-.59-.52 0-1.04.2-1.43.59L10.3 9.45l-7.72 7.72c-.78.78-.78 2.05 0 2.83L4 21.41c.39.39.9.59 1.41.59.51 0 1.02-.2 1.41-.59l7.78-7.78 2.81-2.81c.8-.78.8-2.07 0-2.86zM5.41 20L4 18.59l7.72-7.72 1.47 1.35L5.41 20z\"/>\n",
              "  </svg>\n",
              "      </button>\n",
              "      \n",
              "  <style>\n",
              "    .colab-df-container {\n",
              "      display:flex;\n",
              "      flex-wrap:wrap;\n",
              "      gap: 12px;\n",
              "    }\n",
              "\n",
              "    .colab-df-convert {\n",
              "      background-color: #E8F0FE;\n",
              "      border: none;\n",
              "      border-radius: 50%;\n",
              "      cursor: pointer;\n",
              "      display: none;\n",
              "      fill: #1967D2;\n",
              "      height: 32px;\n",
              "      padding: 0 0 0 0;\n",
              "      width: 32px;\n",
              "    }\n",
              "\n",
              "    .colab-df-convert:hover {\n",
              "      background-color: #E2EBFA;\n",
              "      box-shadow: 0px 1px 2px rgba(60, 64, 67, 0.3), 0px 1px 3px 1px rgba(60, 64, 67, 0.15);\n",
              "      fill: #174EA6;\n",
              "    }\n",
              "\n",
              "    [theme=dark] .colab-df-convert {\n",
              "      background-color: #3B4455;\n",
              "      fill: #D2E3FC;\n",
              "    }\n",
              "\n",
              "    [theme=dark] .colab-df-convert:hover {\n",
              "      background-color: #434B5C;\n",
              "      box-shadow: 0px 1px 3px 1px rgba(0, 0, 0, 0.15);\n",
              "      filter: drop-shadow(0px 1px 2px rgba(0, 0, 0, 0.3));\n",
              "      fill: #FFFFFF;\n",
              "    }\n",
              "  </style>\n",
              "\n",
              "      <script>\n",
              "        const buttonEl =\n",
              "          document.querySelector('#df-b056f422-6fd3-4b5b-a0c0-13753d6a15af button.colab-df-convert');\n",
              "        buttonEl.style.display =\n",
              "          google.colab.kernel.accessAllowed ? 'block' : 'none';\n",
              "\n",
              "        async function convertToInteractive(key) {\n",
              "          const element = document.querySelector('#df-b056f422-6fd3-4b5b-a0c0-13753d6a15af');\n",
              "          const dataTable =\n",
              "            await google.colab.kernel.invokeFunction('convertToInteractive',\n",
              "                                                     [key], {});\n",
              "          if (!dataTable) return;\n",
              "\n",
              "          const docLinkHtml = 'Like what you see? Visit the ' +\n",
              "            '<a target=\"_blank\" href=https://colab.research.google.com/notebooks/data_table.ipynb>data table notebook</a>'\n",
              "            + ' to learn more about interactive tables.';\n",
              "          element.innerHTML = '';\n",
              "          dataTable['output_type'] = 'display_data';\n",
              "          await google.colab.output.renderOutput(dataTable, element);\n",
              "          const docLink = document.createElement('div');\n",
              "          docLink.innerHTML = docLinkHtml;\n",
              "          element.appendChild(docLink);\n",
              "        }\n",
              "      </script>\n",
              "    </div>\n",
              "  </div>\n",
              "  "
            ]
          },
          "metadata": {},
          "execution_count": 30
        }
      ]
    },
    {
      "cell_type": "code",
      "source": [
        "#performing inner join on the two tables\n",
        "\n",
        "record = None\n",
        "col_name = None\n",
        "try:\n",
        "      connection = psycopg2.connect(user=\"admin\",\n",
        "                                  password=\"Hydra@12345\",\n",
        "                                  host=\"163.123.183.90\",\n",
        "                                  port=\"19038\",\n",
        "                                  database=\"test\")\n",
        "      cursor = connection.cursor()\n",
        "      cursor.execute(\"SELECT st.id,st.fname,st.lname,st.city,sj.course FROM student AS st INNER JOIN subject AS sj ON st.id = sj.id;\")\n",
        "      col_name = cursor.description\n",
        "      record = cursor.fetchall()\n",
        "except (Exception, Error) as error:\n",
        "  print(\"Error while connecting to PostgreSQL\", error)\n",
        "finally:\n",
        "    if connection:\n",
        "        cursor.close()\n",
        "        print(\"PostgreSQL cursor is closed\")\n",
        "        connection.close()\n",
        "        print(\"PostgreSQL connection is closed\")\n",
        "record"
      ],
      "metadata": {
        "colab": {
          "base_uri": "https://localhost:8080/"
        },
        "id": "HZAW9zywu5C9",
        "outputId": "6247ec28-f053-44f2-c639-627ce207d7b6"
      },
      "execution_count": 38,
      "outputs": [
        {
          "output_type": "stream",
          "name": "stdout",
          "text": [
            "PostgreSQL cursor is closed\n",
            "PostgreSQL connection is closed\n"
          ]
        },
        {
          "output_type": "execute_result",
          "data": {
            "text/plain": [
              "[(1, 'shivam', 'sahu', 'ranchi', 'maths'),\n",
              " (1, 'shivam', 'sahu', 'ranchi', 'chemistry'),\n",
              " (2, 'shivam', 'sunderam', 'ranchi', 'biology'),\n",
              " (3, 'sourav', 'raj', 'hazaribagh', 'physics'),\n",
              " (4, 'madhav', 'kumar', 'deoghar', 'english'),\n",
              " (4, 'madhav', 'kumar', 'deoghar', 'hindi'),\n",
              " (4, 'madhav', 'kumar', 'deoghar', 'chemistry')]"
            ]
          },
          "metadata": {},
          "execution_count": 38
        }
      ]
    },
    {
      "cell_type": "code",
      "source": [
        "for x in col_name:\n",
        "  print(x[0])"
      ],
      "metadata": {
        "colab": {
          "base_uri": "https://localhost:8080/"
        },
        "id": "qkRc6heNZZo_",
        "outputId": "9e9b3ab8-8eea-4ffe-dea6-637ef1b218de"
      },
      "execution_count": 39,
      "outputs": [
        {
          "output_type": "stream",
          "name": "stdout",
          "text": [
            "id\n",
            "fname\n",
            "lname\n",
            "city\n",
            "course\n"
          ]
        }
      ]
    },
    {
      "cell_type": "code",
      "source": [
        "column = [x[0] for x in col_name] \n",
        "df = pd.DataFrame(record,columns=column)\n",
        "df"
      ],
      "metadata": {
        "colab": {
          "base_uri": "https://localhost:8080/",
          "height": 269
        },
        "id": "JLMGhxEkZajs",
        "outputId": "2037462a-c8ca-4076-8c50-e955477e924a"
      },
      "execution_count": 40,
      "outputs": [
        {
          "output_type": "execute_result",
          "data": {
            "text/plain": [
              "   id   fname     lname        city     course\n",
              "0   1  shivam      sahu      ranchi      maths\n",
              "1   1  shivam      sahu      ranchi  chemistry\n",
              "2   2  shivam  sunderam      ranchi    biology\n",
              "3   3  sourav       raj  hazaribagh    physics\n",
              "4   4  madhav     kumar     deoghar    english\n",
              "5   4  madhav     kumar     deoghar      hindi\n",
              "6   4  madhav     kumar     deoghar  chemistry"
            ],
            "text/html": [
              "\n",
              "  <div id=\"df-a9eba5b6-7be4-44a3-acaa-007b957873da\">\n",
              "    <div class=\"colab-df-container\">\n",
              "      <div>\n",
              "<style scoped>\n",
              "    .dataframe tbody tr th:only-of-type {\n",
              "        vertical-align: middle;\n",
              "    }\n",
              "\n",
              "    .dataframe tbody tr th {\n",
              "        vertical-align: top;\n",
              "    }\n",
              "\n",
              "    .dataframe thead th {\n",
              "        text-align: right;\n",
              "    }\n",
              "</style>\n",
              "<table border=\"1\" class=\"dataframe\">\n",
              "  <thead>\n",
              "    <tr style=\"text-align: right;\">\n",
              "      <th></th>\n",
              "      <th>id</th>\n",
              "      <th>fname</th>\n",
              "      <th>lname</th>\n",
              "      <th>city</th>\n",
              "      <th>course</th>\n",
              "    </tr>\n",
              "  </thead>\n",
              "  <tbody>\n",
              "    <tr>\n",
              "      <th>0</th>\n",
              "      <td>1</td>\n",
              "      <td>shivam</td>\n",
              "      <td>sahu</td>\n",
              "      <td>ranchi</td>\n",
              "      <td>maths</td>\n",
              "    </tr>\n",
              "    <tr>\n",
              "      <th>1</th>\n",
              "      <td>1</td>\n",
              "      <td>shivam</td>\n",
              "      <td>sahu</td>\n",
              "      <td>ranchi</td>\n",
              "      <td>chemistry</td>\n",
              "    </tr>\n",
              "    <tr>\n",
              "      <th>2</th>\n",
              "      <td>2</td>\n",
              "      <td>shivam</td>\n",
              "      <td>sunderam</td>\n",
              "      <td>ranchi</td>\n",
              "      <td>biology</td>\n",
              "    </tr>\n",
              "    <tr>\n",
              "      <th>3</th>\n",
              "      <td>3</td>\n",
              "      <td>sourav</td>\n",
              "      <td>raj</td>\n",
              "      <td>hazaribagh</td>\n",
              "      <td>physics</td>\n",
              "    </tr>\n",
              "    <tr>\n",
              "      <th>4</th>\n",
              "      <td>4</td>\n",
              "      <td>madhav</td>\n",
              "      <td>kumar</td>\n",
              "      <td>deoghar</td>\n",
              "      <td>english</td>\n",
              "    </tr>\n",
              "    <tr>\n",
              "      <th>5</th>\n",
              "      <td>4</td>\n",
              "      <td>madhav</td>\n",
              "      <td>kumar</td>\n",
              "      <td>deoghar</td>\n",
              "      <td>hindi</td>\n",
              "    </tr>\n",
              "    <tr>\n",
              "      <th>6</th>\n",
              "      <td>4</td>\n",
              "      <td>madhav</td>\n",
              "      <td>kumar</td>\n",
              "      <td>deoghar</td>\n",
              "      <td>chemistry</td>\n",
              "    </tr>\n",
              "  </tbody>\n",
              "</table>\n",
              "</div>\n",
              "      <button class=\"colab-df-convert\" onclick=\"convertToInteractive('df-a9eba5b6-7be4-44a3-acaa-007b957873da')\"\n",
              "              title=\"Convert this dataframe to an interactive table.\"\n",
              "              style=\"display:none;\">\n",
              "        \n",
              "  <svg xmlns=\"http://www.w3.org/2000/svg\" height=\"24px\"viewBox=\"0 0 24 24\"\n",
              "       width=\"24px\">\n",
              "    <path d=\"M0 0h24v24H0V0z\" fill=\"none\"/>\n",
              "    <path d=\"M18.56 5.44l.94 2.06.94-2.06 2.06-.94-2.06-.94-.94-2.06-.94 2.06-2.06.94zm-11 1L8.5 8.5l.94-2.06 2.06-.94-2.06-.94L8.5 2.5l-.94 2.06-2.06.94zm10 10l.94 2.06.94-2.06 2.06-.94-2.06-.94-.94-2.06-.94 2.06-2.06.94z\"/><path d=\"M17.41 7.96l-1.37-1.37c-.4-.4-.92-.59-1.43-.59-.52 0-1.04.2-1.43.59L10.3 9.45l-7.72 7.72c-.78.78-.78 2.05 0 2.83L4 21.41c.39.39.9.59 1.41.59.51 0 1.02-.2 1.41-.59l7.78-7.78 2.81-2.81c.8-.78.8-2.07 0-2.86zM5.41 20L4 18.59l7.72-7.72 1.47 1.35L5.41 20z\"/>\n",
              "  </svg>\n",
              "      </button>\n",
              "      \n",
              "  <style>\n",
              "    .colab-df-container {\n",
              "      display:flex;\n",
              "      flex-wrap:wrap;\n",
              "      gap: 12px;\n",
              "    }\n",
              "\n",
              "    .colab-df-convert {\n",
              "      background-color: #E8F0FE;\n",
              "      border: none;\n",
              "      border-radius: 50%;\n",
              "      cursor: pointer;\n",
              "      display: none;\n",
              "      fill: #1967D2;\n",
              "      height: 32px;\n",
              "      padding: 0 0 0 0;\n",
              "      width: 32px;\n",
              "    }\n",
              "\n",
              "    .colab-df-convert:hover {\n",
              "      background-color: #E2EBFA;\n",
              "      box-shadow: 0px 1px 2px rgba(60, 64, 67, 0.3), 0px 1px 3px 1px rgba(60, 64, 67, 0.15);\n",
              "      fill: #174EA6;\n",
              "    }\n",
              "\n",
              "    [theme=dark] .colab-df-convert {\n",
              "      background-color: #3B4455;\n",
              "      fill: #D2E3FC;\n",
              "    }\n",
              "\n",
              "    [theme=dark] .colab-df-convert:hover {\n",
              "      background-color: #434B5C;\n",
              "      box-shadow: 0px 1px 3px 1px rgba(0, 0, 0, 0.15);\n",
              "      filter: drop-shadow(0px 1px 2px rgba(0, 0, 0, 0.3));\n",
              "      fill: #FFFFFF;\n",
              "    }\n",
              "  </style>\n",
              "\n",
              "      <script>\n",
              "        const buttonEl =\n",
              "          document.querySelector('#df-a9eba5b6-7be4-44a3-acaa-007b957873da button.colab-df-convert');\n",
              "        buttonEl.style.display =\n",
              "          google.colab.kernel.accessAllowed ? 'block' : 'none';\n",
              "\n",
              "        async function convertToInteractive(key) {\n",
              "          const element = document.querySelector('#df-a9eba5b6-7be4-44a3-acaa-007b957873da');\n",
              "          const dataTable =\n",
              "            await google.colab.kernel.invokeFunction('convertToInteractive',\n",
              "                                                     [key], {});\n",
              "          if (!dataTable) return;\n",
              "\n",
              "          const docLinkHtml = 'Like what you see? Visit the ' +\n",
              "            '<a target=\"_blank\" href=https://colab.research.google.com/notebooks/data_table.ipynb>data table notebook</a>'\n",
              "            + ' to learn more about interactive tables.';\n",
              "          element.innerHTML = '';\n",
              "          dataTable['output_type'] = 'display_data';\n",
              "          await google.colab.output.renderOutput(dataTable, element);\n",
              "          const docLink = document.createElement('div');\n",
              "          docLink.innerHTML = docLinkHtml;\n",
              "          element.appendChild(docLink);\n",
              "        }\n",
              "      </script>\n",
              "    </div>\n",
              "  </div>\n",
              "  "
            ]
          },
          "metadata": {},
          "execution_count": 40
        }
      ]
    },
    {
      "cell_type": "code",
      "source": [
        "#performing left join on the two tables\n",
        "\n",
        "record = None\n",
        "col_name = None\n",
        "try:\n",
        "      connection = psycopg2.connect(user=\"admin\",\n",
        "                                  password=\"Hydra@12345\",\n",
        "                                  host=\"163.123.183.90\",\n",
        "                                  port=\"19038\",\n",
        "                                  database=\"test\")\n",
        "      cursor = connection.cursor()\n",
        "      cursor.execute(\"SELECT st.id,st.fname,st.lname,st.city,sj.course FROM student AS st LEFT JOIN subject AS sj ON st.id = sj.id;\")\n",
        "      col_name = cursor.description\n",
        "      record = cursor.fetchall()\n",
        "except (Exception, Error) as error:\n",
        "  print(\"Error while connecting to PostgreSQL\", error)\n",
        "finally:\n",
        "    if connection:\n",
        "        cursor.close()\n",
        "        print(\"PostgreSQL cursor is closed\")\n",
        "        connection.close()\n",
        "        print(\"PostgreSQL connection is closed\")\n",
        "record"
      ],
      "metadata": {
        "colab": {
          "base_uri": "https://localhost:8080/"
        },
        "id": "p2g-E1eA4wa6",
        "outputId": "58d195b5-7a3b-457b-be09-1a22e67602bd"
      },
      "execution_count": 41,
      "outputs": [
        {
          "output_type": "stream",
          "name": "stdout",
          "text": [
            "PostgreSQL cursor is closed\n",
            "PostgreSQL connection is closed\n"
          ]
        },
        {
          "output_type": "execute_result",
          "data": {
            "text/plain": [
              "[(1, 'shivam', 'sahu', 'ranchi', 'maths'),\n",
              " (1, 'shivam', 'sahu', 'ranchi', 'chemistry'),\n",
              " (2, 'shivam', 'sunderam', 'ranchi', 'biology'),\n",
              " (3, 'sourav', 'raj', 'hazaribagh', 'physics'),\n",
              " (4, 'madhav', 'kumar', 'deoghar', 'english'),\n",
              " (4, 'madhav', 'kumar', 'deoghar', 'hindi'),\n",
              " (4, 'madhav', 'kumar', 'deoghar', 'chemistry'),\n",
              " (5, 'ravi', 'kumar', 'jamtara', None),\n",
              " (6, 'sarfaraz', 'alam', 'dhanbad', None)]"
            ]
          },
          "metadata": {},
          "execution_count": 41
        }
      ]
    },
    {
      "cell_type": "code",
      "source": [
        "for x in col_name:\n",
        "  print(x[0])"
      ],
      "metadata": {
        "id": "TGlPfFA5ahJ1"
      },
      "execution_count": null,
      "outputs": []
    },
    {
      "cell_type": "code",
      "source": [
        "column = [x[0] for x in col_name] \n",
        "df = pd.DataFrame(record,columns=column)\n",
        "df"
      ],
      "metadata": {
        "id": "-OoHWAEYanCk"
      },
      "execution_count": null,
      "outputs": []
    },
    {
      "cell_type": "code",
      "source": [
        "#performing right join on the two tables\n",
        "\n",
        "record = None\n",
        "col_name = None\n",
        "try:\n",
        "      connection = psycopg2.connect(user=\"admin\",\n",
        "                                  password=\"Hydra@12345\",\n",
        "                                  host=\"163.123.183.90\",\n",
        "                                  port=\"19038\",\n",
        "                                  database=\"test\")\n",
        "      cursor = connection.cursor()\n",
        "      cursor.execute(\"SELECT st.id,st.fname,st.lname,st.city,sj.course FROM student AS st RIGHT JOIN subject AS sj ON st.id = sj.id;\")\n",
        "      col_name = cursor.description\n",
        "      record = cursor.fetchall()\n",
        "except (Exception, Error) as error:\n",
        "  print(\"Error while connecting to PostgreSQL\", error)\n",
        "finally:\n",
        "    if connection:\n",
        "        cursor.close()\n",
        "        print(\"PostgreSQL cursor is closed\")\n",
        "        connection.close()\n",
        "        print(\"PostgreSQL connection is closed\")\n",
        "record"
      ],
      "metadata": {
        "colab": {
          "base_uri": "https://localhost:8080/"
        },
        "id": "SyhgeI-R48lK",
        "outputId": "88e90df6-ca8b-4835-cbc0-612e0012a2c0"
      },
      "execution_count": 42,
      "outputs": [
        {
          "output_type": "stream",
          "name": "stdout",
          "text": [
            "PostgreSQL cursor is closed\n",
            "PostgreSQL connection is closed\n"
          ]
        },
        {
          "output_type": "execute_result",
          "data": {
            "text/plain": [
              "[(1, 'shivam', 'sahu', 'ranchi', 'maths'),\n",
              " (1, 'shivam', 'sahu', 'ranchi', 'chemistry'),\n",
              " (2, 'shivam', 'sunderam', 'ranchi', 'biology'),\n",
              " (3, 'sourav', 'raj', 'hazaribagh', 'physics'),\n",
              " (4, 'madhav', 'kumar', 'deoghar', 'english'),\n",
              " (4, 'madhav', 'kumar', 'deoghar', 'hindi'),\n",
              " (4, 'madhav', 'kumar', 'deoghar', 'chemistry')]"
            ]
          },
          "metadata": {},
          "execution_count": 42
        }
      ]
    },
    {
      "cell_type": "code",
      "source": [
        "for x in col_name:\n",
        "  print(x[0])"
      ],
      "metadata": {
        "colab": {
          "base_uri": "https://localhost:8080/"
        },
        "id": "JPFgMmlwaitC",
        "outputId": "9656605d-6fdf-4724-c510-c2f57d72c0a9"
      },
      "execution_count": 43,
      "outputs": [
        {
          "output_type": "stream",
          "name": "stdout",
          "text": [
            "id\n",
            "fname\n",
            "lname\n",
            "city\n",
            "course\n"
          ]
        }
      ]
    },
    {
      "cell_type": "code",
      "source": [
        "column = [x[0] for x in col_name] \n",
        "df = pd.DataFrame(record,columns=column)\n",
        "df"
      ],
      "metadata": {
        "colab": {
          "base_uri": "https://localhost:8080/",
          "height": 269
        },
        "id": "-D_4mBmfaoik",
        "outputId": "ff967a60-0a15-4145-e2c0-4467320c0fb7"
      },
      "execution_count": 44,
      "outputs": [
        {
          "output_type": "execute_result",
          "data": {
            "text/plain": [
              "   id   fname     lname        city     course\n",
              "0   1  shivam      sahu      ranchi      maths\n",
              "1   1  shivam      sahu      ranchi  chemistry\n",
              "2   2  shivam  sunderam      ranchi    biology\n",
              "3   3  sourav       raj  hazaribagh    physics\n",
              "4   4  madhav     kumar     deoghar    english\n",
              "5   4  madhav     kumar     deoghar      hindi\n",
              "6   4  madhav     kumar     deoghar  chemistry"
            ],
            "text/html": [
              "\n",
              "  <div id=\"df-1d49af11-b01b-421b-9050-458d736e86e1\">\n",
              "    <div class=\"colab-df-container\">\n",
              "      <div>\n",
              "<style scoped>\n",
              "    .dataframe tbody tr th:only-of-type {\n",
              "        vertical-align: middle;\n",
              "    }\n",
              "\n",
              "    .dataframe tbody tr th {\n",
              "        vertical-align: top;\n",
              "    }\n",
              "\n",
              "    .dataframe thead th {\n",
              "        text-align: right;\n",
              "    }\n",
              "</style>\n",
              "<table border=\"1\" class=\"dataframe\">\n",
              "  <thead>\n",
              "    <tr style=\"text-align: right;\">\n",
              "      <th></th>\n",
              "      <th>id</th>\n",
              "      <th>fname</th>\n",
              "      <th>lname</th>\n",
              "      <th>city</th>\n",
              "      <th>course</th>\n",
              "    </tr>\n",
              "  </thead>\n",
              "  <tbody>\n",
              "    <tr>\n",
              "      <th>0</th>\n",
              "      <td>1</td>\n",
              "      <td>shivam</td>\n",
              "      <td>sahu</td>\n",
              "      <td>ranchi</td>\n",
              "      <td>maths</td>\n",
              "    </tr>\n",
              "    <tr>\n",
              "      <th>1</th>\n",
              "      <td>1</td>\n",
              "      <td>shivam</td>\n",
              "      <td>sahu</td>\n",
              "      <td>ranchi</td>\n",
              "      <td>chemistry</td>\n",
              "    </tr>\n",
              "    <tr>\n",
              "      <th>2</th>\n",
              "      <td>2</td>\n",
              "      <td>shivam</td>\n",
              "      <td>sunderam</td>\n",
              "      <td>ranchi</td>\n",
              "      <td>biology</td>\n",
              "    </tr>\n",
              "    <tr>\n",
              "      <th>3</th>\n",
              "      <td>3</td>\n",
              "      <td>sourav</td>\n",
              "      <td>raj</td>\n",
              "      <td>hazaribagh</td>\n",
              "      <td>physics</td>\n",
              "    </tr>\n",
              "    <tr>\n",
              "      <th>4</th>\n",
              "      <td>4</td>\n",
              "      <td>madhav</td>\n",
              "      <td>kumar</td>\n",
              "      <td>deoghar</td>\n",
              "      <td>english</td>\n",
              "    </tr>\n",
              "    <tr>\n",
              "      <th>5</th>\n",
              "      <td>4</td>\n",
              "      <td>madhav</td>\n",
              "      <td>kumar</td>\n",
              "      <td>deoghar</td>\n",
              "      <td>hindi</td>\n",
              "    </tr>\n",
              "    <tr>\n",
              "      <th>6</th>\n",
              "      <td>4</td>\n",
              "      <td>madhav</td>\n",
              "      <td>kumar</td>\n",
              "      <td>deoghar</td>\n",
              "      <td>chemistry</td>\n",
              "    </tr>\n",
              "  </tbody>\n",
              "</table>\n",
              "</div>\n",
              "      <button class=\"colab-df-convert\" onclick=\"convertToInteractive('df-1d49af11-b01b-421b-9050-458d736e86e1')\"\n",
              "              title=\"Convert this dataframe to an interactive table.\"\n",
              "              style=\"display:none;\">\n",
              "        \n",
              "  <svg xmlns=\"http://www.w3.org/2000/svg\" height=\"24px\"viewBox=\"0 0 24 24\"\n",
              "       width=\"24px\">\n",
              "    <path d=\"M0 0h24v24H0V0z\" fill=\"none\"/>\n",
              "    <path d=\"M18.56 5.44l.94 2.06.94-2.06 2.06-.94-2.06-.94-.94-2.06-.94 2.06-2.06.94zm-11 1L8.5 8.5l.94-2.06 2.06-.94-2.06-.94L8.5 2.5l-.94 2.06-2.06.94zm10 10l.94 2.06.94-2.06 2.06-.94-2.06-.94-.94-2.06-.94 2.06-2.06.94z\"/><path d=\"M17.41 7.96l-1.37-1.37c-.4-.4-.92-.59-1.43-.59-.52 0-1.04.2-1.43.59L10.3 9.45l-7.72 7.72c-.78.78-.78 2.05 0 2.83L4 21.41c.39.39.9.59 1.41.59.51 0 1.02-.2 1.41-.59l7.78-7.78 2.81-2.81c.8-.78.8-2.07 0-2.86zM5.41 20L4 18.59l7.72-7.72 1.47 1.35L5.41 20z\"/>\n",
              "  </svg>\n",
              "      </button>\n",
              "      \n",
              "  <style>\n",
              "    .colab-df-container {\n",
              "      display:flex;\n",
              "      flex-wrap:wrap;\n",
              "      gap: 12px;\n",
              "    }\n",
              "\n",
              "    .colab-df-convert {\n",
              "      background-color: #E8F0FE;\n",
              "      border: none;\n",
              "      border-radius: 50%;\n",
              "      cursor: pointer;\n",
              "      display: none;\n",
              "      fill: #1967D2;\n",
              "      height: 32px;\n",
              "      padding: 0 0 0 0;\n",
              "      width: 32px;\n",
              "    }\n",
              "\n",
              "    .colab-df-convert:hover {\n",
              "      background-color: #E2EBFA;\n",
              "      box-shadow: 0px 1px 2px rgba(60, 64, 67, 0.3), 0px 1px 3px 1px rgba(60, 64, 67, 0.15);\n",
              "      fill: #174EA6;\n",
              "    }\n",
              "\n",
              "    [theme=dark] .colab-df-convert {\n",
              "      background-color: #3B4455;\n",
              "      fill: #D2E3FC;\n",
              "    }\n",
              "\n",
              "    [theme=dark] .colab-df-convert:hover {\n",
              "      background-color: #434B5C;\n",
              "      box-shadow: 0px 1px 3px 1px rgba(0, 0, 0, 0.15);\n",
              "      filter: drop-shadow(0px 1px 2px rgba(0, 0, 0, 0.3));\n",
              "      fill: #FFFFFF;\n",
              "    }\n",
              "  </style>\n",
              "\n",
              "      <script>\n",
              "        const buttonEl =\n",
              "          document.querySelector('#df-1d49af11-b01b-421b-9050-458d736e86e1 button.colab-df-convert');\n",
              "        buttonEl.style.display =\n",
              "          google.colab.kernel.accessAllowed ? 'block' : 'none';\n",
              "\n",
              "        async function convertToInteractive(key) {\n",
              "          const element = document.querySelector('#df-1d49af11-b01b-421b-9050-458d736e86e1');\n",
              "          const dataTable =\n",
              "            await google.colab.kernel.invokeFunction('convertToInteractive',\n",
              "                                                     [key], {});\n",
              "          if (!dataTable) return;\n",
              "\n",
              "          const docLinkHtml = 'Like what you see? Visit the ' +\n",
              "            '<a target=\"_blank\" href=https://colab.research.google.com/notebooks/data_table.ipynb>data table notebook</a>'\n",
              "            + ' to learn more about interactive tables.';\n",
              "          element.innerHTML = '';\n",
              "          dataTable['output_type'] = 'display_data';\n",
              "          await google.colab.output.renderOutput(dataTable, element);\n",
              "          const docLink = document.createElement('div');\n",
              "          docLink.innerHTML = docLinkHtml;\n",
              "          element.appendChild(docLink);\n",
              "        }\n",
              "      </script>\n",
              "    </div>\n",
              "  </div>\n",
              "  "
            ]
          },
          "metadata": {},
          "execution_count": 44
        }
      ]
    },
    {
      "cell_type": "code",
      "source": [
        "#performing right outer join on the two tables\n",
        "\n",
        "record = None\n",
        "col_name = None\n",
        "try:\n",
        "      connection = psycopg2.connect(user=\"admin\",\n",
        "                                  password=\"Hydra@12345\",\n",
        "                                  host=\"163.123.183.90\",\n",
        "                                  port=\"19038\",\n",
        "                                  database=\"test\")\n",
        "      cursor = connection.cursor()\n",
        "      cursor.execute(\"SELECT st.id,st.fname,st.lname,st.city,sj.course FROM student AS st RIGHT OUTER JOIN subject AS sj ON st.id = sj.id;\")\n",
        "      col_name = cursor.description\n",
        "      record = cursor.fetchall()\n",
        "except (Exception, Error) as error:\n",
        "  print(\"Error while connecting to PostgreSQL\", error)\n",
        "finally:\n",
        "    if connection:\n",
        "        cursor.close()\n",
        "        print(\"PostgreSQL cursor is closed\")\n",
        "        connection.close()\n",
        "        print(\"PostgreSQL connection is closed\")\n",
        "record"
      ],
      "metadata": {
        "colab": {
          "base_uri": "https://localhost:8080/"
        },
        "id": "StIH80ri5Aw1",
        "outputId": "8176fc0b-1ec3-4a3b-d278-a276a1575675"
      },
      "execution_count": 45,
      "outputs": [
        {
          "output_type": "stream",
          "name": "stdout",
          "text": [
            "PostgreSQL cursor is closed\n",
            "PostgreSQL connection is closed\n"
          ]
        },
        {
          "output_type": "execute_result",
          "data": {
            "text/plain": [
              "[(1, 'shivam', 'sahu', 'ranchi', 'maths'),\n",
              " (1, 'shivam', 'sahu', 'ranchi', 'chemistry'),\n",
              " (2, 'shivam', 'sunderam', 'ranchi', 'biology'),\n",
              " (3, 'sourav', 'raj', 'hazaribagh', 'physics'),\n",
              " (4, 'madhav', 'kumar', 'deoghar', 'english'),\n",
              " (4, 'madhav', 'kumar', 'deoghar', 'hindi'),\n",
              " (4, 'madhav', 'kumar', 'deoghar', 'chemistry')]"
            ]
          },
          "metadata": {},
          "execution_count": 45
        }
      ]
    },
    {
      "cell_type": "code",
      "source": [
        "for x in col_name:\n",
        "  print(x[0])"
      ],
      "metadata": {
        "colab": {
          "base_uri": "https://localhost:8080/"
        },
        "id": "kv4YV6OOaj0x",
        "outputId": "e01951c4-98f1-477f-9936-5bc5c3b7457c"
      },
      "execution_count": 46,
      "outputs": [
        {
          "output_type": "stream",
          "name": "stdout",
          "text": [
            "id\n",
            "fname\n",
            "lname\n",
            "city\n",
            "course\n"
          ]
        }
      ]
    },
    {
      "cell_type": "code",
      "source": [
        "column = [x[0] for x in col_name] \n",
        "df = pd.DataFrame(record,columns=column)\n",
        "df"
      ],
      "metadata": {
        "id": "FGAPe9tE5Gis",
        "colab": {
          "base_uri": "https://localhost:8080/",
          "height": 269
        },
        "outputId": "db6282b0-411d-4f00-b8a5-a8b0b81a8b50"
      },
      "execution_count": 47,
      "outputs": [
        {
          "output_type": "execute_result",
          "data": {
            "text/plain": [
              "   id   fname     lname        city     course\n",
              "0   1  shivam      sahu      ranchi      maths\n",
              "1   1  shivam      sahu      ranchi  chemistry\n",
              "2   2  shivam  sunderam      ranchi    biology\n",
              "3   3  sourav       raj  hazaribagh    physics\n",
              "4   4  madhav     kumar     deoghar    english\n",
              "5   4  madhav     kumar     deoghar      hindi\n",
              "6   4  madhav     kumar     deoghar  chemistry"
            ],
            "text/html": [
              "\n",
              "  <div id=\"df-e495595a-051d-4a9d-bf15-36e5abdb0b38\">\n",
              "    <div class=\"colab-df-container\">\n",
              "      <div>\n",
              "<style scoped>\n",
              "    .dataframe tbody tr th:only-of-type {\n",
              "        vertical-align: middle;\n",
              "    }\n",
              "\n",
              "    .dataframe tbody tr th {\n",
              "        vertical-align: top;\n",
              "    }\n",
              "\n",
              "    .dataframe thead th {\n",
              "        text-align: right;\n",
              "    }\n",
              "</style>\n",
              "<table border=\"1\" class=\"dataframe\">\n",
              "  <thead>\n",
              "    <tr style=\"text-align: right;\">\n",
              "      <th></th>\n",
              "      <th>id</th>\n",
              "      <th>fname</th>\n",
              "      <th>lname</th>\n",
              "      <th>city</th>\n",
              "      <th>course</th>\n",
              "    </tr>\n",
              "  </thead>\n",
              "  <tbody>\n",
              "    <tr>\n",
              "      <th>0</th>\n",
              "      <td>1</td>\n",
              "      <td>shivam</td>\n",
              "      <td>sahu</td>\n",
              "      <td>ranchi</td>\n",
              "      <td>maths</td>\n",
              "    </tr>\n",
              "    <tr>\n",
              "      <th>1</th>\n",
              "      <td>1</td>\n",
              "      <td>shivam</td>\n",
              "      <td>sahu</td>\n",
              "      <td>ranchi</td>\n",
              "      <td>chemistry</td>\n",
              "    </tr>\n",
              "    <tr>\n",
              "      <th>2</th>\n",
              "      <td>2</td>\n",
              "      <td>shivam</td>\n",
              "      <td>sunderam</td>\n",
              "      <td>ranchi</td>\n",
              "      <td>biology</td>\n",
              "    </tr>\n",
              "    <tr>\n",
              "      <th>3</th>\n",
              "      <td>3</td>\n",
              "      <td>sourav</td>\n",
              "      <td>raj</td>\n",
              "      <td>hazaribagh</td>\n",
              "      <td>physics</td>\n",
              "    </tr>\n",
              "    <tr>\n",
              "      <th>4</th>\n",
              "      <td>4</td>\n",
              "      <td>madhav</td>\n",
              "      <td>kumar</td>\n",
              "      <td>deoghar</td>\n",
              "      <td>english</td>\n",
              "    </tr>\n",
              "    <tr>\n",
              "      <th>5</th>\n",
              "      <td>4</td>\n",
              "      <td>madhav</td>\n",
              "      <td>kumar</td>\n",
              "      <td>deoghar</td>\n",
              "      <td>hindi</td>\n",
              "    </tr>\n",
              "    <tr>\n",
              "      <th>6</th>\n",
              "      <td>4</td>\n",
              "      <td>madhav</td>\n",
              "      <td>kumar</td>\n",
              "      <td>deoghar</td>\n",
              "      <td>chemistry</td>\n",
              "    </tr>\n",
              "  </tbody>\n",
              "</table>\n",
              "</div>\n",
              "      <button class=\"colab-df-convert\" onclick=\"convertToInteractive('df-e495595a-051d-4a9d-bf15-36e5abdb0b38')\"\n",
              "              title=\"Convert this dataframe to an interactive table.\"\n",
              "              style=\"display:none;\">\n",
              "        \n",
              "  <svg xmlns=\"http://www.w3.org/2000/svg\" height=\"24px\"viewBox=\"0 0 24 24\"\n",
              "       width=\"24px\">\n",
              "    <path d=\"M0 0h24v24H0V0z\" fill=\"none\"/>\n",
              "    <path d=\"M18.56 5.44l.94 2.06.94-2.06 2.06-.94-2.06-.94-.94-2.06-.94 2.06-2.06.94zm-11 1L8.5 8.5l.94-2.06 2.06-.94-2.06-.94L8.5 2.5l-.94 2.06-2.06.94zm10 10l.94 2.06.94-2.06 2.06-.94-2.06-.94-.94-2.06-.94 2.06-2.06.94z\"/><path d=\"M17.41 7.96l-1.37-1.37c-.4-.4-.92-.59-1.43-.59-.52 0-1.04.2-1.43.59L10.3 9.45l-7.72 7.72c-.78.78-.78 2.05 0 2.83L4 21.41c.39.39.9.59 1.41.59.51 0 1.02-.2 1.41-.59l7.78-7.78 2.81-2.81c.8-.78.8-2.07 0-2.86zM5.41 20L4 18.59l7.72-7.72 1.47 1.35L5.41 20z\"/>\n",
              "  </svg>\n",
              "      </button>\n",
              "      \n",
              "  <style>\n",
              "    .colab-df-container {\n",
              "      display:flex;\n",
              "      flex-wrap:wrap;\n",
              "      gap: 12px;\n",
              "    }\n",
              "\n",
              "    .colab-df-convert {\n",
              "      background-color: #E8F0FE;\n",
              "      border: none;\n",
              "      border-radius: 50%;\n",
              "      cursor: pointer;\n",
              "      display: none;\n",
              "      fill: #1967D2;\n",
              "      height: 32px;\n",
              "      padding: 0 0 0 0;\n",
              "      width: 32px;\n",
              "    }\n",
              "\n",
              "    .colab-df-convert:hover {\n",
              "      background-color: #E2EBFA;\n",
              "      box-shadow: 0px 1px 2px rgba(60, 64, 67, 0.3), 0px 1px 3px 1px rgba(60, 64, 67, 0.15);\n",
              "      fill: #174EA6;\n",
              "    }\n",
              "\n",
              "    [theme=dark] .colab-df-convert {\n",
              "      background-color: #3B4455;\n",
              "      fill: #D2E3FC;\n",
              "    }\n",
              "\n",
              "    [theme=dark] .colab-df-convert:hover {\n",
              "      background-color: #434B5C;\n",
              "      box-shadow: 0px 1px 3px 1px rgba(0, 0, 0, 0.15);\n",
              "      filter: drop-shadow(0px 1px 2px rgba(0, 0, 0, 0.3));\n",
              "      fill: #FFFFFF;\n",
              "    }\n",
              "  </style>\n",
              "\n",
              "      <script>\n",
              "        const buttonEl =\n",
              "          document.querySelector('#df-e495595a-051d-4a9d-bf15-36e5abdb0b38 button.colab-df-convert');\n",
              "        buttonEl.style.display =\n",
              "          google.colab.kernel.accessAllowed ? 'block' : 'none';\n",
              "\n",
              "        async function convertToInteractive(key) {\n",
              "          const element = document.querySelector('#df-e495595a-051d-4a9d-bf15-36e5abdb0b38');\n",
              "          const dataTable =\n",
              "            await google.colab.kernel.invokeFunction('convertToInteractive',\n",
              "                                                     [key], {});\n",
              "          if (!dataTable) return;\n",
              "\n",
              "          const docLinkHtml = 'Like what you see? Visit the ' +\n",
              "            '<a target=\"_blank\" href=https://colab.research.google.com/notebooks/data_table.ipynb>data table notebook</a>'\n",
              "            + ' to learn more about interactive tables.';\n",
              "          element.innerHTML = '';\n",
              "          dataTable['output_type'] = 'display_data';\n",
              "          await google.colab.output.renderOutput(dataTable, element);\n",
              "          const docLink = document.createElement('div');\n",
              "          docLink.innerHTML = docLinkHtml;\n",
              "          element.appendChild(docLink);\n",
              "        }\n",
              "      </script>\n",
              "    </div>\n",
              "  </div>\n",
              "  "
            ]
          },
          "metadata": {},
          "execution_count": 47
        }
      ]
    },
    {
      "cell_type": "code",
      "source": [
        "df.to_excel(\"data1.xlsx\")"
      ],
      "metadata": {
        "id": "5pgoPLULbLDE"
      },
      "execution_count": 51,
      "outputs": []
    },
    {
      "cell_type": "code",
      "source": [],
      "metadata": {
        "id": "1bLiRpLUciNm"
      },
      "execution_count": null,
      "outputs": []
    }
  ]
}