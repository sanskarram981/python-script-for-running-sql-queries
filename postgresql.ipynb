{
  "nbformat": 4,
  "nbformat_minor": 0,
  "metadata": {
    "colab": {
      "provenance": [],
      "collapsed_sections": [],
      "authorship_tag": "ABX9TyOAKbbqbbzXPrNPiLH9gsUr",
      "include_colab_link": true
    },
    "kernelspec": {
      "name": "python3",
      "display_name": "Python 3"
    },
    "language_info": {
      "name": "python"
    }
  },
  "cells": [
    {
      "cell_type": "markdown",
      "metadata": {
        "id": "view-in-github",
        "colab_type": "text"
      },
      "source": [
        "<a href=\"https://colab.research.google.com/github/sanskarram981/python-script-for-running-sql-queries/blob/Dev/postgresql.ipynb\" target=\"_parent\"><img src=\"https://colab.research.google.com/assets/colab-badge.svg\" alt=\"Open In Colab\"/></a>"
      ]
    },
    {
      "cell_type": "code",
      "execution_count": null,
      "metadata": {
        "colab": {
          "base_uri": "https://localhost:8080/"
        },
        "id": "zKQcxtx8y3BO",
        "outputId": "822788e1-292e-44f3-8e0c-78302bee0ba5"
      },
      "outputs": [
        {
          "output_type": "stream",
          "name": "stdout",
          "text": [
            "Looking in indexes: https://pypi.org/simple, https://us-python.pkg.dev/colab-wheels/public/simple/\n",
            "Requirement already satisfied: psycopg2 in /usr/local/lib/python3.7/dist-packages (2.9.5)\n"
          ]
        }
      ],
      "source": [
        "# !pip install psycopg2"
      ]
    },
    {
      "cell_type": "code",
      "source": [
        "\"\"\"connection with the postgresql database\"\"\"\n",
        "\n",
        "\n",
        "\n",
        "import psycopg2\n",
        "from psycopg2 import Error\n",
        "\n",
        "try:\n",
        "    # Connect to an existing database\n",
        "    connection = psycopg2.connect(user=\"admin\",\n",
        "                                  password=\"Hydra@12345\",\n",
        "                                  host=\"163.123.183.90\",\n",
        "                                  port=\"19038\",\n",
        "                                  database=\"test\")\n",
        "\n",
        "    # Create a cursor to perform database operations\n",
        "    cursor = connection.cursor()\n",
        "    # Print PostgreSQL details\n",
        "    print(\"PostgreSQL server information\")\n",
        "    print(connection.get_dsn_parameters(), \"\\n\")\n",
        "    # Executing a SQL query\n",
        "    cursor.execute(\"SELECT version();\")\n",
        "    # Fetch result\n",
        "    record = cursor.fetchone()\n",
        "    print(\"You are connected to - \", record, \"\\n\")\n",
        "\n",
        "except (Exception, Error) as error:\n",
        "    print(\"Error while connecting to PostgreSQL\", error)\n",
        "finally:\n",
        "    if (connection):\n",
        "        cursor.close()\n",
        "        connection.close()\n",
        "        print(\"PostgreSQL connection is closed\")"
      ],
      "metadata": {
        "id": "tFaxg4xIzk_b",
        "colab": {
          "base_uri": "https://localhost:8080/"
        },
        "outputId": "fe956aa5-86b1-4347-c45b-808f5f9ac18e"
      },
      "execution_count": null,
      "outputs": [
        {
          "output_type": "stream",
          "name": "stdout",
          "text": [
            "PostgreSQL server information\n",
            "{'user': 'admin', 'dbname': 'test', 'host': '163.123.183.90', 'port': '19038', 'tty': '', 'options': '', 'sslmode': 'prefer', 'sslcompression': '1', 'krbsrvname': 'postgres', 'target_session_attrs': 'any'} \n",
            "\n",
            "You are connected to -  ('PostgreSQL 12.7 (Debian 12.7-1.pgdg90+1) on x86_64-pc-linux-gnu, compiled by gcc (Debian 6.3.0-18+deb9u1) 6.3.0 20170516, 64-bit',) \n",
            "\n",
            "PostgreSQL connection is closed\n"
          ]
        }
      ]
    },
    {
      "cell_type": "code",
      "source": [
        "\"\"\"Executing sql query on the cursor\"\"\"\n",
        "\n",
        "# import psycopg2\n",
        "# from psycopg2 import Error\n",
        "\n",
        "# try:\n",
        "#     connection = psycopg2.connect(user=\"postgres\",\n",
        "#                                   password=\"pynative@#29\",\n",
        "#                                   host=\"127.0.0.1\",\n",
        "#                                   port=\"5432\",\n",
        "#                                   database=\"postgres_db\")\n",
        "\n",
        "#     cursor = connection.cursor()\n",
        "#     # SQL query to create a new table\n",
        "#     create_table_query = '''CREATE TABLE mobile\n",
        "#           (ID INT PRIMARY KEY     NOT NULL,\n",
        "#           MODEL           TEXT    NOT NULL,\n",
        "#           PRICE         REAL); '''\n",
        "#     # Execute a command: this creates a new table\n",
        "#     cursor.execute(create_table_query)\n",
        "#     connection.commit()\n",
        "#     print(\"Table created successfully in PostgreSQL \")\n",
        "\n",
        "# except (Exception, Error) as error:\n",
        "#     print(\"Error while connecting to PostgreSQL\", error)\n",
        "# finally:\n",
        "#     if connection:\n",
        "#         cursor.close()\n",
        "#         connection.close()\n",
        "#         print(\"PostgreSQL connection is closed\")"
      ],
      "metadata": {
        "id": "gYrpxCsYIXHu"
      },
      "execution_count": null,
      "outputs": []
    },
    {
      "cell_type": "code",
      "source": [
        "\"\"\"Performing crud operation on the database with commit\"\"\"\"\n",
        "\n",
        "# import psycopg2\n",
        "\n",
        "# try:\n",
        "#     connection = psycopg2.connect(user=\"postgres\",\n",
        "#                                   password=\"pynative@#29\",\n",
        "#                                   host=\"127.0.0.1\",\n",
        "#                                   port=\"5432\",\n",
        "#                                   database=\"postgres_db\")\n",
        "\n",
        "#     cursor = connection.cursor()\n",
        "#     # Executing a SQL query to insert data into  table\n",
        "#     insert_query = \"\"\" INSERT INTO mobile (ID, MODEL, PRICE) VALUES (1, 'Iphone12', 1100)\"\"\"\n",
        "#     cursor.execute(insert_query)\n",
        "#     connection.commit()\n",
        "#     print(\"1 Record inserted successfully\")\n",
        "#     # Fetch result\n",
        "#     cursor.execute(\"SELECT * from mobile\")\n",
        "#     record = cursor.fetchall()\n",
        "#     print(\"Result \", record)\n",
        "\n",
        "#     # Executing a SQL query to update table\n",
        "#     update_query = \"\"\"Update mobile set price = 1500 where id = 1\"\"\"\n",
        "#     cursor.execute(update_query)\n",
        "#     connection.commit()\n",
        "#     count = cursor.rowcount\n",
        "#     print(count, \"Record updated successfully \")\n",
        "#     # Fetch result\n",
        "#     cursor.execute(\"SELECT * from mobile\")\n",
        "#     print(\"Result \", cursor.fetchall())\n",
        "\n",
        "#     # Executing a SQL query to delete table\n",
        "#     delete_query = \"\"\"Delete from mobile where id = 1\"\"\"\n",
        "#     cursor.execute(delete_query)\n",
        "#     connection.commit()\n",
        "#     count = cursor.rowcount\n",
        "#     print(count, \"Record deleted successfully \")\n",
        "#     # Fetch result\n",
        "#     cursor.execute(\"SELECT * from mobile\")\n",
        "#     print(\"Result \", cursor.fetchall())\n",
        "\n",
        "\n",
        "# except (Exception, psycopg2.Error) as error:\n",
        "#     print(\"Error while connecting to PostgreSQL\", error)\n",
        "# finally:\n",
        "#     if connection:\n",
        "#         cursor.close()\n",
        "#         connection.close()\n",
        "#         print(\"PostgreSQL connection is closed\")"
      ],
      "metadata": {
        "id": "Fk12qq7CIn8G"
      },
      "execution_count": null,
      "outputs": []
    },
    {
      "cell_type": "code",
      "source": [
        "def query_execution(querry):\n",
        "  record = None\n",
        "  try:\n",
        "      connection = psycopg2.connect(user=\"admin\",\n",
        "                                  password=\"Hydra@12345\",\n",
        "                                  host=\"163.123.183.90\",\n",
        "                                  port=\"19038\",\n",
        "                                  database=\"test\")\n",
        "      cursor = connection.cursor()\n",
        "      cursor.execute(querry)\n",
        "      connection.commit()\n",
        "  except (Exception, Error) as error:\n",
        "      print(\"Error while connecting to PostgreSQL\", error)\n",
        "  finally:\n",
        "      if connection:\n",
        "          cursor.close()\n",
        "          print(\"PostgreSQL cursor is closed\")\n",
        "          connection.close()\n",
        "          print(\"PostgreSQL connection is closed\")"
      ],
      "metadata": {
        "id": "PBo5-zFTmakd"
      },
      "execution_count": null,
      "outputs": []
    },
    {
      "cell_type": "code",
      "source": [
        "#creating table in the database\n",
        "\n",
        "query = \"CREATE TABLE student (id int,fname varchar(10),lname varchar(10),city varchar(10),PRIMARY KEY (id));\"\n",
        "output = query_execution(query)\n",
        "output"
      ],
      "metadata": {
        "colab": {
          "base_uri": "https://localhost:8080/"
        },
        "id": "EIHo5YXor4Hf",
        "outputId": "38a919f4-4ee0-449a-dba8-b982602cc7de"
      },
      "execution_count": null,
      "outputs": [
        {
          "output_type": "stream",
          "name": "stdout",
          "text": [
            "PostgreSQL cursor is closed\n",
            "PostgreSQL connection is closed\n"
          ]
        }
      ]
    },
    {
      "cell_type": "code",
      "source": [
        "#inserting data in the student table\n",
        "data = [(1,\"shivam\",\"sahu\",\"ranchi\"),\n",
        "        (2,\"shivam\",\"sunderam\",\"ranchi\"),\n",
        "        (3,\"sourav\",\"raj\",\"hazaribagh\"),\n",
        "        (4,\"madhav\",\"kumar\",\"deoghar\"),\n",
        "        (5,\"ravi\",\"kumar\",\"jamtara\"),\n",
        "        (6,\"sarfaraz\",\"alam\",\"dhanbad\")\n",
        "]\n",
        "record = None\n",
        "try:\n",
        "      connection = psycopg2.connect(user=\"admin\",\n",
        "                                  password=\"Hydra@12345\",\n",
        "                                  host=\"163.123.183.90\",\n",
        "                                  port=\"19038\",\n",
        "                                  database=\"test\")\n",
        "      cursor = connection.cursor()\n",
        "      for dt in data:\n",
        "        cursor.execute(\"INSERT INTO student VALUES (%s,%s,%s,%s)\",dt)\n",
        "      connection.commit()\n",
        "except (Exception, Error) as error:\n",
        "  print(\"Error while connecting to PostgreSQL\", error)\n",
        "finally:\n",
        "    if connection:\n",
        "        cursor.close()\n",
        "        print(\"PostgreSQL cursor is closed\")\n",
        "        connection.close()\n",
        "        print(\"PostgreSQL connection is closed\")\n",
        "\n"
      ],
      "metadata": {
        "colab": {
          "base_uri": "https://localhost:8080/"
        },
        "id": "YvyMUz7fsAq_",
        "outputId": "a2a717b7-9977-40e1-df40-8d5af458d567"
      },
      "execution_count": null,
      "outputs": [
        {
          "output_type": "stream",
          "name": "stdout",
          "text": [
            "PostgreSQL cursor is closed\n",
            "PostgreSQL connection is closed\n"
          ]
        }
      ]
    },
    {
      "cell_type": "code",
      "source": [
        "#retrieving record from the student table\n",
        "\n",
        "record = None\n",
        "try:\n",
        "      connection = psycopg2.connect(user=\"admin\",\n",
        "                                  password=\"Hydra@12345\",\n",
        "                                  host=\"163.123.183.90\",\n",
        "                                  port=\"19038\",\n",
        "                                  database=\"test\")\n",
        "      cursor = connection.cursor()\n",
        "      cursor.execute(\"SELECT * FROM student;\")\n",
        "      record = cursor.fetchall()\n",
        "except (Exception, Error) as error:\n",
        "  print(\"Error while connecting to PostgreSQL\", error)\n",
        "finally:\n",
        "    if connection:\n",
        "        cursor.close()\n",
        "        print(\"PostgreSQL cursor is closed\")\n",
        "        connection.close()\n",
        "        print(\"PostgreSQL connection is closed\")\n",
        "record"
      ],
      "metadata": {
        "colab": {
          "base_uri": "https://localhost:8080/"
        },
        "id": "OtJ3nUJWswjy",
        "outputId": "23037a96-3a6b-44e9-ee23-138ce5744f2a"
      },
      "execution_count": null,
      "outputs": [
        {
          "output_type": "stream",
          "name": "stdout",
          "text": [
            "PostgreSQL cursor is closed\n",
            "PostgreSQL connection is closed\n"
          ]
        },
        {
          "output_type": "execute_result",
          "data": {
            "text/plain": [
              "[(1, 'shivam', 'sahu', 'ranchi'),\n",
              " (2, 'shivam', 'sunderam', 'ranchi'),\n",
              " (3, 'sourav', 'raj', 'hazaribagh'),\n",
              " (4, 'madhav', 'kumar', 'deoghar'),\n",
              " (5, 'ravi', 'kumar', 'jamtara'),\n",
              " (6, 'sarfaraz', 'alam', 'dhanbad')]"
            ]
          },
          "metadata": {},
          "execution_count": 22
        }
      ]
    },
    {
      "cell_type": "code",
      "source": [
        "#creating table in the database\n",
        "\n",
        "query = \"CREATE TABLE subject (id int,course varchar(10));\"\n",
        "output = query_execution(query)"
      ],
      "metadata": {
        "colab": {
          "base_uri": "https://localhost:8080/"
        },
        "id": "jLlVqt_CuUye",
        "outputId": "a367ce2e-cfa6-4162-a653-b66b46851ef3"
      },
      "execution_count": null,
      "outputs": [
        {
          "output_type": "stream",
          "name": "stdout",
          "text": [
            "PostgreSQL cursor is closed\n",
            "PostgreSQL connection is closed\n"
          ]
        }
      ]
    },
    {
      "cell_type": "code",
      "source": [
        "#inserting data in the student table\n",
        "\n",
        "data = [(1,\"maths\"),\n",
        "        (1,\"chemistry\"),\n",
        "        (2,\"biology\"),\n",
        "        (3,\"physics\"),\n",
        "        (4,\"english\"),\n",
        "        (4,\"hindi\"),\n",
        "        (4,\"chemistry\")\n",
        "        ]\n",
        "record = None\n",
        "try:\n",
        "      connection = psycopg2.connect(user=\"admin\",\n",
        "                                  password=\"Hydra@12345\",\n",
        "                                  host=\"163.123.183.90\",\n",
        "                                  port=\"19038\",\n",
        "                                  database=\"test\")\n",
        "      cursor = connection.cursor()\n",
        "      for dt in data:\n",
        "        cursor.execute(\"INSERT INTO subject VALUES (%s,%s)\",dt)\n",
        "      connection.commit()\n",
        "except (Exception, Error) as error:\n",
        "  print(\"Error while connecting to PostgreSQL\", error)\n",
        "finally:\n",
        "    if connection:\n",
        "        cursor.close()\n",
        "        print(\"PostgreSQL cursor is closed\")\n",
        "        connection.close()\n",
        "        print(\"PostgreSQL connection is closed\")"
      ],
      "metadata": {
        "colab": {
          "base_uri": "https://localhost:8080/"
        },
        "id": "sKzJVLwKukWX",
        "outputId": "42c72a31-e783-491c-9fd1-901982769059"
      },
      "execution_count": null,
      "outputs": [
        {
          "output_type": "stream",
          "name": "stdout",
          "text": [
            "PostgreSQL cursor is closed\n",
            "PostgreSQL connection is closed\n"
          ]
        }
      ]
    },
    {
      "cell_type": "code",
      "source": [
        "#retrieving record from the subject table\n",
        "\n",
        "record = None\n",
        "try:\n",
        "      connection = psycopg2.connect(user=\"admin\",\n",
        "                                  password=\"Hydra@12345\",\n",
        "                                  host=\"163.123.183.90\",\n",
        "                                  port=\"19038\",\n",
        "                                  database=\"test\")\n",
        "      cursor = connection.cursor()\n",
        "      cursor.execute(\"SELECT * FROM subject;\")\n",
        "      record = cursor.fetchall()\n",
        "except (Exception, Error) as error:\n",
        "  print(\"Error while connecting to PostgreSQL\", error)\n",
        "finally:\n",
        "    if connection:\n",
        "        cursor.close()\n",
        "        print(\"PostgreSQL cursor is closed\")\n",
        "        connection.close()\n",
        "        print(\"PostgreSQL connection is closed\")\n",
        "record"
      ],
      "metadata": {
        "colab": {
          "base_uri": "https://localhost:8080/"
        },
        "id": "qFPoqFDRuvcd",
        "outputId": "4f6c82e0-ad5f-493a-b912-c7bd32c3b996"
      },
      "execution_count": null,
      "outputs": [
        {
          "output_type": "stream",
          "name": "stdout",
          "text": [
            "PostgreSQL cursor is closed\n",
            "PostgreSQL connection is closed\n"
          ]
        },
        {
          "output_type": "execute_result",
          "data": {
            "text/plain": [
              "[(1, 'maths'),\n",
              " (1, 'chemistry'),\n",
              " (2, 'biology'),\n",
              " (3, 'physics'),\n",
              " (4, 'english'),\n",
              " (4, 'hindi'),\n",
              " (4, 'chemistry')]"
            ]
          },
          "metadata": {},
          "execution_count": 26
        }
      ]
    },
    {
      "cell_type": "code",
      "source": [
        "#performing inner join on the two tables\n",
        "\n",
        "record = None\n",
        "try:\n",
        "      connection = psycopg2.connect(user=\"admin\",\n",
        "                                  password=\"Hydra@12345\",\n",
        "                                  host=\"163.123.183.90\",\n",
        "                                  port=\"19038\",\n",
        "                                  database=\"test\")\n",
        "      cursor = connection.cursor()\n",
        "      cursor.execute(\"SELECT * FROM student INNER JOIN subject on student.id=subject.id;\")\n",
        "      record = cursor.fetchall()\n",
        "except (Exception, Error) as error:\n",
        "  print(\"Error while connecting to PostgreSQL\", error)\n",
        "finally:\n",
        "    if connection:\n",
        "        cursor.close()\n",
        "        print(\"PostgreSQL cursor is closed\")\n",
        "        connection.close()\n",
        "        print(\"PostgreSQL connection is closed\")\n",
        "record"
      ],
      "metadata": {
        "colab": {
          "base_uri": "https://localhost:8080/"
        },
        "id": "HZAW9zywu5C9",
        "outputId": "09973e8c-b46a-44d3-e48e-3cdc64f42063"
      },
      "execution_count": null,
      "outputs": [
        {
          "output_type": "stream",
          "name": "stdout",
          "text": [
            "PostgreSQL cursor is closed\n",
            "PostgreSQL connection is closed\n"
          ]
        },
        {
          "output_type": "execute_result",
          "data": {
            "text/plain": [
              "[(1, 'shivam', 'sahu', 'ranchi', 1, 'maths'),\n",
              " (1, 'shivam', 'sahu', 'ranchi', 1, 'chemistry'),\n",
              " (2, 'shivam', 'sunderam', 'ranchi', 2, 'biology'),\n",
              " (3, 'sourav', 'raj', 'hazaribagh', 3, 'physics'),\n",
              " (4, 'madhav', 'kumar', 'deoghar', 4, 'english'),\n",
              " (4, 'madhav', 'kumar', 'deoghar', 4, 'hindi'),\n",
              " (4, 'madhav', 'kumar', 'deoghar', 4, 'chemistry')]"
            ]
          },
          "metadata": {},
          "execution_count": 28
        }
      ]
    },
    {
      "cell_type": "code",
      "source": [
        "#performing left join on the two tables\n",
        "\n",
        "record = None\n",
        "try:\n",
        "      connection = psycopg2.connect(user=\"admin\",\n",
        "                                  password=\"Hydra@12345\",\n",
        "                                  host=\"163.123.183.90\",\n",
        "                                  port=\"19038\",\n",
        "                                  database=\"test\")\n",
        "      cursor = connection.cursor()\n",
        "      cursor.execute(\"SELECT * FROM student LEFT JOIN subject on student.id=subject.id;\")\n",
        "      record = cursor.fetchall()\n",
        "except (Exception, Error) as error:\n",
        "  print(\"Error while connecting to PostgreSQL\", error)\n",
        "finally:\n",
        "    if connection:\n",
        "        cursor.close()\n",
        "        print(\"PostgreSQL cursor is closed\")\n",
        "        connection.close()\n",
        "        print(\"PostgreSQL connection is closed\")\n",
        "record"
      ],
      "metadata": {
        "colab": {
          "base_uri": "https://localhost:8080/"
        },
        "id": "p2g-E1eA4wa6",
        "outputId": "954936c4-cbf2-42ea-8499-c45e6c330afc"
      },
      "execution_count": null,
      "outputs": [
        {
          "output_type": "stream",
          "name": "stdout",
          "text": [
            "PostgreSQL cursor is closed\n",
            "PostgreSQL connection is closed\n"
          ]
        },
        {
          "output_type": "execute_result",
          "data": {
            "text/plain": [
              "[(1, 'shivam', 'sahu', 'ranchi', 1, 'maths'),\n",
              " (1, 'shivam', 'sahu', 'ranchi', 1, 'chemistry'),\n",
              " (2, 'shivam', 'sunderam', 'ranchi', 2, 'biology'),\n",
              " (3, 'sourav', 'raj', 'hazaribagh', 3, 'physics'),\n",
              " (4, 'madhav', 'kumar', 'deoghar', 4, 'english'),\n",
              " (4, 'madhav', 'kumar', 'deoghar', 4, 'hindi'),\n",
              " (4, 'madhav', 'kumar', 'deoghar', 4, 'chemistry'),\n",
              " (5, 'ravi', 'kumar', 'jamtara', None, None),\n",
              " (6, 'sarfaraz', 'alam', 'dhanbad', None, None)]"
            ]
          },
          "metadata": {},
          "execution_count": 29
        }
      ]
    },
    {
      "cell_type": "code",
      "source": [
        "#performing right join on the two tables\n",
        "\n",
        "record = None\n",
        "try:\n",
        "      connection = psycopg2.connect(user=\"admin\",\n",
        "                                  password=\"Hydra@12345\",\n",
        "                                  host=\"163.123.183.90\",\n",
        "                                  port=\"19038\",\n",
        "                                  database=\"test\")\n",
        "      cursor = connection.cursor()\n",
        "      cursor.execute(\"SELECT * FROM student RIGHT JOIN subject on student.id=subject.id;\")\n",
        "      record = cursor.fetchall()\n",
        "except (Exception, Error) as error:\n",
        "  print(\"Error while connecting to PostgreSQL\", error)\n",
        "finally:\n",
        "    if connection:\n",
        "        cursor.close()\n",
        "        print(\"PostgreSQL cursor is closed\")\n",
        "        connection.close()\n",
        "        print(\"PostgreSQL connection is closed\")\n",
        "record"
      ],
      "metadata": {
        "colab": {
          "base_uri": "https://localhost:8080/"
        },
        "id": "SyhgeI-R48lK",
        "outputId": "01aed005-cc6d-4117-912d-da7d1d81b25e"
      },
      "execution_count": null,
      "outputs": [
        {
          "output_type": "stream",
          "name": "stdout",
          "text": [
            "PostgreSQL cursor is closed\n",
            "PostgreSQL connection is closed\n"
          ]
        },
        {
          "output_type": "execute_result",
          "data": {
            "text/plain": [
              "[(1, 'shivam', 'sahu', 'ranchi', 1, 'maths'),\n",
              " (1, 'shivam', 'sahu', 'ranchi', 1, 'chemistry'),\n",
              " (2, 'shivam', 'sunderam', 'ranchi', 2, 'biology'),\n",
              " (3, 'sourav', 'raj', 'hazaribagh', 3, 'physics'),\n",
              " (4, 'madhav', 'kumar', 'deoghar', 4, 'english'),\n",
              " (4, 'madhav', 'kumar', 'deoghar', 4, 'hindi'),\n",
              " (4, 'madhav', 'kumar', 'deoghar', 4, 'chemistry')]"
            ]
          },
          "metadata": {},
          "execution_count": 30
        }
      ]
    },
    {
      "cell_type": "code",
      "source": [
        "#performing right outer join on the two tables\n",
        "\n",
        "record = None\n",
        "try:\n",
        "      connection = psycopg2.connect(user=\"admin\",\n",
        "                                  password=\"Hydra@12345\",\n",
        "                                  host=\"163.123.183.90\",\n",
        "                                  port=\"19038\",\n",
        "                                  database=\"test\")\n",
        "      cursor = connection.cursor()\n",
        "      cursor.execute(\"SELECT * FROM student RIGHT OUTER JOIN subject on student.id=subject.id;\")\n",
        "      record = cursor.fetchall()\n",
        "except (Exception, Error) as error:\n",
        "  print(\"Error while connecting to PostgreSQL\", error)\n",
        "finally:\n",
        "    if connection:\n",
        "        cursor.close()\n",
        "        print(\"PostgreSQL cursor is closed\")\n",
        "        connection.close()\n",
        "        print(\"PostgreSQL connection is closed\")\n",
        "record"
      ],
      "metadata": {
        "colab": {
          "base_uri": "https://localhost:8080/"
        },
        "id": "StIH80ri5Aw1",
        "outputId": "81eff0f0-e879-4f09-bce6-3b7816476b7d"
      },
      "execution_count": null,
      "outputs": [
        {
          "output_type": "stream",
          "name": "stdout",
          "text": [
            "PostgreSQL cursor is closed\n",
            "PostgreSQL connection is closed\n"
          ]
        },
        {
          "output_type": "execute_result",
          "data": {
            "text/plain": [
              "[(1, 'shivam', 'sahu', 'ranchi', 1, 'maths'),\n",
              " (1, 'shivam', 'sahu', 'ranchi', 1, 'chemistry'),\n",
              " (2, 'shivam', 'sunderam', 'ranchi', 2, 'biology'),\n",
              " (3, 'sourav', 'raj', 'hazaribagh', 3, 'physics'),\n",
              " (4, 'madhav', 'kumar', 'deoghar', 4, 'english'),\n",
              " (4, 'madhav', 'kumar', 'deoghar', 4, 'hindi'),\n",
              " (4, 'madhav', 'kumar', 'deoghar', 4, 'chemistry')]"
            ]
          },
          "metadata": {},
          "execution_count": 31
        }
      ]
    },
    {
      "cell_type": "code",
      "source": [],
      "metadata": {
        "id": "FGAPe9tE5Gis"
      },
      "execution_count": null,
      "outputs": []
    }
  ]
}